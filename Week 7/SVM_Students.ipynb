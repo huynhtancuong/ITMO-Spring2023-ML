{
  "cells": [
    {
      "cell_type": "code",
      "execution_count": null,
      "metadata": {},
      "outputs": [],
      "source": [
        "import pandas as pd\n",
        "import numpy as np\n",
        "import matplotlib.pyplot as plt"
      ]
    },
    {
      "attachments": {},
      "cell_type": "markdown",
      "metadata": {
        "id": "x301k4lQYICQ"
      },
      "source": [
        "# Распознавание лиц при помощи SVM и kernel trick"
      ]
    },
    {
      "attachments": {},
      "cell_type": "markdown",
      "metadata": {
        "id": "9B7p1Wl_Ai3R"
      },
      "source": [
        "# Описание набора данных"
      ]
    },
    {
      "attachments": {},
      "cell_type": "markdown",
      "metadata": {
        "id": "bWycMPiv1cuh"
      },
      "source": [
        "В этом задании вам предлагается построить классификатор, обученный на изображениях лиц. Сначала загрузим необходимый набор данных и посмотрим, что он из себя представляет. \n",
        "\n",
        "Таблица содержит \"распрямленные\" представления изображений лиц людей.\n",
        "\n",
        "Изначально каждое изображение — матрица размера $62 \\times 47$, значения которой, предположительно, нормированы к диапазону $[0, 1]$ из диапазона $[0, 255] \\cap \\mathbb Z$. Сами значения отвечают за интенсивность пикселя: чем значение больше, тем пиксель светлее.\n",
        "\n",
        "Обратите внимание, из картинки (или, что то же самое, матрицы) размера $62 \\times 47$ получился вектор длины $2914 = 62 \\cdot 47$.\n",
        "\n",
        "Колонка <code>label</code> отвечает за имя человека, изображенного на картинке."
      ]
    },
    {
      "cell_type": "code",
      "execution_count": null,
      "metadata": {
        "colab": {
          "base_uri": "https://localhost:8080/",
          "height": 382
        },
        "id": "PIn4KHeTYfCb",
        "outputId": "72cfba0e-abe5-4a61-e31b-b928f8ef784f"
      },
      "outputs": [],
      "source": [
        "df = pd.read_csv('persons_pics_train.csv')\n",
        "df"
      ]
    },
    {
      "attachments": {},
      "cell_type": "markdown",
      "metadata": {
        "id": "kspU0Qef11XU"
      },
      "source": [
        "Убедимся в том, что перед нами действительно изображения лиц людей. Возьмем первые $15$ строк из таблицы исходных данных и построим соответствующие им изображения."
      ]
    },
    {
      "cell_type": "code",
      "execution_count": null,
      "metadata": {
        "id": "hRwvUSbf3D1V"
      },
      "outputs": [],
      "source": [
        "import matplotlib.pyplot as plt\n",
        "\n",
        "def get_img_by_row(row):\n",
        "  return row.drop('label').astype(float).to_numpy().reshape(62,47), row['label']"
      ]
    },
    {
      "cell_type": "code",
      "execution_count": null,
      "metadata": {
        "colab": {
          "base_uri": "https://localhost:8080/",
          "height": 426
        },
        "id": "UFJb9mct2oWK",
        "outputId": "e130962c-ea98-4d77-a409-88de56cfb16d"
      },
      "outputs": [],
      "source": [
        "fig, ax = plt.subplots(3, 6)\n",
        "for i, axi in enumerate(ax.flat):\n",
        "    img, lbl = get_img_by_row(df.iloc[i])\n",
        "    axi.imshow(img, cmap='gray')\n",
        "    axi.set(xticks=[], yticks=[],\n",
        "            xlabel=lbl.split()[-1])\n",
        "plt.savefig('persons_pics_img_for_description.png', dpi = 300, bbox_inches='tight')    "
      ]
    },
    {
      "attachments": {},
      "cell_type": "markdown",
      "metadata": {
        "id": "_qkenfcm4-dH"
      },
      "source": [
        "Крупнее"
      ]
    },
    {
      "cell_type": "code",
      "execution_count": null,
      "metadata": {
        "colab": {
          "base_uri": "https://localhost:8080/",
          "height": 423
        },
        "id": "9XgGPo8h5y78",
        "outputId": "5b624983-77f6-4762-f7b0-f2c65ba140fc"
      },
      "outputs": [],
      "source": [
        "plt.imshow(df.iloc[0].drop('label').astype(float).to_numpy().reshape(62,47), cmap='gray')\n",
        "plt.axis('off')"
      ]
    },
    {
      "attachments": {},
      "cell_type": "markdown",
      "metadata": {
        "id": "Q4D22CYlAtOh"
      },
      "source": [
        "# Немного озорства"
      ]
    },
    {
      "attachments": {},
      "cell_type": "markdown",
      "metadata": {
        "id": "LpubPEq-E3sQ"
      },
      "source": [
        "Определите число различных людей, фотографии которых содержатся в рассматриваемом наборе данных."
      ]
    },
    {
      "cell_type": "code",
      "execution_count": null,
      "metadata": {
        "colab": {
          "base_uri": "https://localhost:8080/"
        },
        "id": "bCiWT0FVFHLz",
        "outputId": "c12b3f66-098f-4fca-d0db-87852e1f6997"
      },
      "outputs": [],
      "source": [
        "df['label'].groupby(df['label']).count().count()"
      ]
    },
    {
      "attachments": {},
      "cell_type": "markdown",
      "metadata": {
        "id": "WbEIJ-_S7iqm"
      },
      "source": [
        "Постройте гистограмму распределения объектов по классам и вычислите долю объектов каждого класса. "
      ]
    },
    {
      "cell_type": "code",
      "execution_count": null,
      "metadata": {
        "id": "D78diqZW7vpk"
      },
      "outputs": [],
      "source": [
        "hist = df['label'].groupby(df['label']).count().plot(kind='bar')\n",
        "plt.show(hist)"
      ]
    },
    {
      "cell_type": "code",
      "execution_count": null,
      "metadata": {},
      "outputs": [],
      "source": [
        "df[df['label'] == 'Junichiro Koizumi'].shape[0] / df.shape[0]"
      ]
    },
    {
      "attachments": {},
      "cell_type": "markdown",
      "metadata": {
        "id": "09bpGM5bFRmp"
      },
      "source": [
        "На основе имеющихся данных поставьте в соответствие каждому человеку один вектор, координаты которого являются средним соответствующих координат всех векторов, отождествленных с этим человеком."
      ]
    },
    {
      "cell_type": "code",
      "execution_count": null,
      "metadata": {
        "id": "FVi6WmHcAsKI"
      },
      "outputs": [],
      "source": [
        "persons = df['label'].unique()\n",
        "persons"
      ]
    },
    {
      "cell_type": "code",
      "execution_count": null,
      "metadata": {},
      "outputs": [],
      "source": [
        "averaged_vector = pd.DataFrame(columns=persons)\n",
        "for p in persons:\n",
        "  averaged_vector[p] = df[df['label'] == p].drop('label', axis=1).mean(axis=0)\n",
        "averaged_vector"
      ]
    },
    {
      "attachments": {},
      "cell_type": "markdown",
      "metadata": {
        "id": "EsOZehSAF1ZE"
      },
      "source": [
        "Вычислите координату с индексом $0$ усредненного вектора, соответствующего человеку из вашего индивидуального задания."
      ]
    },
    {
      "cell_type": "code",
      "execution_count": null,
      "metadata": {
        "id": "wdOk5XsKGK8s"
      },
      "outputs": [],
      "source": [
        "averaged_vector['Hugo Chavez'][0]"
      ]
    },
    {
      "attachments": {},
      "cell_type": "markdown",
      "metadata": {
        "id": "ZFQy6dAcGuHV"
      },
      "source": [
        "Используя усредненные векторы, постройте изображения всех людей из набора данных."
      ]
    },
    {
      "cell_type": "code",
      "execution_count": null,
      "metadata": {
        "id": "Douh7olbBTZC"
      },
      "outputs": [],
      "source": []
    },
    {
      "cell_type": "code",
      "execution_count": null,
      "metadata": {},
      "outputs": [],
      "source": [
        "import matplotlib.pyplot as plt\n",
        "\n",
        "def get_img_by_name(name):\n",
        "  return name.astype(float).to_numpy().reshape(62,47)"
      ]
    },
    {
      "cell_type": "code",
      "execution_count": null,
      "metadata": {},
      "outputs": [],
      "source": [
        "pic = get_img_by_name(averaged_vector['Hugo Chavez'])\n",
        "plt.imshow(pic, cmap='gray')"
      ]
    },
    {
      "cell_type": "code",
      "execution_count": null,
      "metadata": {},
      "outputs": [],
      "source": [
        "fig, ax = plt.subplots(3, 4)\n",
        "for i, axi in enumerate(ax.flat):\n",
        "    lbl = persons[i]\n",
        "    img = get_img_by_name(averaged_vector[persons[i]])\n",
        "    axi.imshow(img, cmap='gray')\n",
        "    axi.set(xticks=[], yticks=[],\n",
        "            xlabel=lbl.split()[-1])\n",
        "plt.savefig('persons_pics_img_for_description.png', dpi = 300, bbox_inches='tight')    "
      ]
    },
    {
      "attachments": {},
      "cell_type": "markdown",
      "metadata": {
        "id": "_45zmvOV-TE3"
      },
      "source": [
        "В качестве меры \"схожести\" двух объектов часто используют так называемое [косинусное сходство](https://en.wikipedia.org/wiki/Cosine_similarity). Не следует путать с косинусным расстоянием.\n",
        "\n",
        "Постройте матрицу \"схожести\" объектов на основе их усредненных векторов. Для визуализации рекомендуем использовать тепловую карту, например, [из библиотеки seaborn](https://seaborn.pydata.org/generated/seaborn.heatmap.html)."
      ]
    },
    {
      "cell_type": "code",
      "execution_count": null,
      "metadata": {
        "id": "ORlwl8MSAsMu"
      },
      "outputs": [],
      "source": [
        "from sklearn.metrics.pairwise import cosine_similarity\n",
        "\n",
        "cosine_similarity_matrix = cosine_similarity(averaged_vector.T.to_numpy())"
      ]
    },
    {
      "cell_type": "code",
      "execution_count": null,
      "metadata": {},
      "outputs": [],
      "source": [
        "cosine_similarity_matrix.shape"
      ]
    },
    {
      "cell_type": "code",
      "execution_count": null,
      "metadata": {},
      "outputs": [],
      "source": [
        "import seaborn as sns\n",
        "\n",
        "sns.heatmap(cosine_similarity_matrix)\n",
        "plt.show()\n"
      ]
    },
    {
      "cell_type": "code",
      "execution_count": null,
      "metadata": {},
      "outputs": [],
      "source": [
        "# The value of the cosine similarity between a pair of averaged vectors Jacques Chiracand Serena Williams.\n",
        "cosine_similarity_matrix[11][10]"
      ]
    },
    {
      "attachments": {},
      "cell_type": "markdown",
      "metadata": {
        "id": "dGFwwz85TDPg"
      },
      "source": [
        "Определите косинусное сходство для пары людей из вашего индивидуального задания на основе соответствующих им \"усредненных\" векторов."
      ]
    },
    {
      "cell_type": "code",
      "execution_count": null,
      "metadata": {
        "id": "fBzdsrkG84PE"
      },
      "outputs": [],
      "source": [
        "# < ENTER YOUR CODE HERE > "
      ]
    },
    {
      "attachments": {},
      "cell_type": "markdown",
      "metadata": {
        "id": "fY7TotHYUJqE"
      },
      "source": [
        "# Построение модели"
      ]
    },
    {
      "attachments": {},
      "cell_type": "markdown",
      "metadata": {
        "id": "SCQ0dGV66EUN"
      },
      "source": [
        "При помощи <code>train_test_split()</code> разделите набор данных на тренировочный и тестовый с параметрами, указанными в вашем индивидуальном задании. Используйте стратификацию по колонке <code>label</code>."
      ]
    },
    {
      "cell_type": "code",
      "execution_count": null,
      "metadata": {
        "id": "pa9Lzhho6KZd"
      },
      "outputs": [],
      "source": [
        "# import train_test_split\n",
        "from sklearn.model_selection import train_test_split\n",
        "\n",
        "X = df.drop('label', axis=1).to_numpy()\n",
        "y = df['label'].to_numpy()\n",
        "x_train, x_test, y_train, y_test = train_test_split(X, y, test_size=0.2, random_state=13, stratify=y)\n"
      ]
    },
    {
      "attachments": {},
      "cell_type": "markdown",
      "metadata": {
        "id": "zCIM8lSj70Ov"
      },
      "source": [
        "## Первое приближение: базовый SVM классификатор с линейным ядром."
      ]
    },
    {
      "attachments": {},
      "cell_type": "markdown",
      "metadata": {
        "id": "1MFp8jptUyyd"
      },
      "source": [
        "Обучите модель <code>SVC()</code> на тренировочном наборе данных с параметрами, указанными в вашем индивидуальном задании."
      ]
    },
    {
      "cell_type": "code",
      "execution_count": null,
      "metadata": {},
      "outputs": [],
      "source": [
        "# create a SVC classifier\n",
        "from sklearn.svm import SVC\n",
        "\n",
        "clf = SVC(kernel='linear', random_state=13)\n",
        "clf.fit(x_train, y_train)"
      ]
    },
    {
      "attachments": {},
      "cell_type": "markdown",
      "metadata": {
        "id": "ahRow63h-LBm"
      },
      "source": [
        "Оцените модель на тестовых данных. Вычислите <code>f1_score(average='weighted')</code>"
      ]
    },
    {
      "cell_type": "code",
      "execution_count": null,
      "metadata": {},
      "outputs": [],
      "source": [
        "# import f1_score\n",
        "from sklearn.metrics import f1_score\n",
        "\n",
        "f1_score(y_test, clf.predict(x_test), average='weighted')"
      ]
    },
    {
      "attachments": {},
      "cell_type": "markdown",
      "metadata": {
        "id": "GZlTrsLWWxV_"
      },
      "source": [
        "В целом, достаточно неплохой результат, но имеет смысл попробовать подобрать параметры."
      ]
    },
    {
      "attachments": {},
      "cell_type": "markdown",
      "metadata": {
        "id": "IYIiSBkk_Yrx"
      },
      "source": [
        "## Подбор гиперпараметров"
      ]
    },
    {
      "attachments": {},
      "cell_type": "markdown",
      "metadata": {
        "id": "mrFWhMp8XKLD"
      },
      "source": [
        "Используя <code>GridSearchCV()</code>, осуществите подбор гиперпараметров, указанных в вашем задании. Отдельно обратите внимание на время обучения моделей"
      ]
    },
    {
      "attachments": {},
      "cell_type": "markdown",
      "metadata": {
        "id": "YH-ufkYcYoiw"
      },
      "source": [
        "Определите гиперпараметры лучшей полученной модели."
      ]
    },
    {
      "cell_type": "code",
      "execution_count": null,
      "metadata": {},
      "outputs": [],
      "source": [
        "from sklearn.model_selection import GridSearchCV\n",
        "tuned_parameters = [{'kernel': ['linear', 'poly', 'rbf', 'sigmoid'], 'gamma': [1e-3, 1e-4],\n",
        "                     'C': [1, 10, 100, 1000], 'class_weight': [None, 'balanced'], 'random_state':[13]}]\n",
        "cv = GridSearchCV(SVC(), tuned_parameters, refit=True, verbose=3)"
      ]
    },
    {
      "attachments": {},
      "cell_type": "markdown",
      "metadata": {},
      "source": []
    },
    {
      "cell_type": "code",
      "execution_count": null,
      "metadata": {},
      "outputs": [],
      "source": [
        "cv.fit(x_train, y_train)"
      ]
    },
    {
      "cell_type": "code",
      "execution_count": null,
      "metadata": {},
      "outputs": [],
      "source": [
        "cv.best_params_"
      ]
    },
    {
      "attachments": {},
      "cell_type": "markdown",
      "metadata": {
        "id": "1owOotVmZi3C"
      },
      "source": [
        "Выполните предсказание для тестовых данных при помощи лучшей полученной модели. Вычислите <code>f1_score(average='weighted')</code>."
      ]
    },
    {
      "cell_type": "code",
      "execution_count": null,
      "metadata": {},
      "outputs": [
        {
          "data": {
            "text/plain": [
              "0.8153472449345439"
            ]
          },
          "metadata": {},
          "output_type": "display_data"
        }
      ],
      "source": [
        "f1_score(y_test, cv.predict(x_test), average='weighted')"
      ]
    },
    {
      "attachments": {},
      "cell_type": "markdown",
      "metadata": {
        "id": "h4hQneoOa4G7"
      },
      "source": [
        "## Уменьшение размерности"
      ]
    },
    {
      "attachments": {},
      "cell_type": "markdown",
      "metadata": {
        "id": "-PwauftDRKh-"
      },
      "source": [
        "Обучение было долгим. Имеет смысл проверить, что будет если уменьшить размерность входных данных, например, при помощи <code>PCA</code>. Обучите модель <code>PCA(svd_solver='full')</code> на тренировочных данных и определите минимальное количество компонент, необходимое для того, чтобы уровень объясненной дисперсии был больше <code>0.95</code>."
      ]
    },
    {
      "cell_type": "code",
      "execution_count": 81,
      "metadata": {
        "id": "VrnHwI3nN4tL"
      },
      "outputs": [
        {
          "data": {
            "text/html": [
              "<style>#sk-container-id-3 {color: black;background-color: white;}#sk-container-id-3 pre{padding: 0;}#sk-container-id-3 div.sk-toggleable {background-color: white;}#sk-container-id-3 label.sk-toggleable__label {cursor: pointer;display: block;width: 100%;margin-bottom: 0;padding: 0.3em;box-sizing: border-box;text-align: center;}#sk-container-id-3 label.sk-toggleable__label-arrow:before {content: \"▸\";float: left;margin-right: 0.25em;color: #696969;}#sk-container-id-3 label.sk-toggleable__label-arrow:hover:before {color: black;}#sk-container-id-3 div.sk-estimator:hover label.sk-toggleable__label-arrow:before {color: black;}#sk-container-id-3 div.sk-toggleable__content {max-height: 0;max-width: 0;overflow: hidden;text-align: left;background-color: #f0f8ff;}#sk-container-id-3 div.sk-toggleable__content pre {margin: 0.2em;color: black;border-radius: 0.25em;background-color: #f0f8ff;}#sk-container-id-3 input.sk-toggleable__control:checked~div.sk-toggleable__content {max-height: 200px;max-width: 100%;overflow: auto;}#sk-container-id-3 input.sk-toggleable__control:checked~label.sk-toggleable__label-arrow:before {content: \"▾\";}#sk-container-id-3 div.sk-estimator input.sk-toggleable__control:checked~label.sk-toggleable__label {background-color: #d4ebff;}#sk-container-id-3 div.sk-label input.sk-toggleable__control:checked~label.sk-toggleable__label {background-color: #d4ebff;}#sk-container-id-3 input.sk-hidden--visually {border: 0;clip: rect(1px 1px 1px 1px);clip: rect(1px, 1px, 1px, 1px);height: 1px;margin: -1px;overflow: hidden;padding: 0;position: absolute;width: 1px;}#sk-container-id-3 div.sk-estimator {font-family: monospace;background-color: #f0f8ff;border: 1px dotted black;border-radius: 0.25em;box-sizing: border-box;margin-bottom: 0.5em;}#sk-container-id-3 div.sk-estimator:hover {background-color: #d4ebff;}#sk-container-id-3 div.sk-parallel-item::after {content: \"\";width: 100%;border-bottom: 1px solid gray;flex-grow: 1;}#sk-container-id-3 div.sk-label:hover label.sk-toggleable__label {background-color: #d4ebff;}#sk-container-id-3 div.sk-serial::before {content: \"\";position: absolute;border-left: 1px solid gray;box-sizing: border-box;top: 0;bottom: 0;left: 50%;z-index: 0;}#sk-container-id-3 div.sk-serial {display: flex;flex-direction: column;align-items: center;background-color: white;padding-right: 0.2em;padding-left: 0.2em;position: relative;}#sk-container-id-3 div.sk-item {position: relative;z-index: 1;}#sk-container-id-3 div.sk-parallel {display: flex;align-items: stretch;justify-content: center;background-color: white;position: relative;}#sk-container-id-3 div.sk-item::before, #sk-container-id-3 div.sk-parallel-item::before {content: \"\";position: absolute;border-left: 1px solid gray;box-sizing: border-box;top: 0;bottom: 0;left: 50%;z-index: -1;}#sk-container-id-3 div.sk-parallel-item {display: flex;flex-direction: column;z-index: 1;position: relative;background-color: white;}#sk-container-id-3 div.sk-parallel-item:first-child::after {align-self: flex-end;width: 50%;}#sk-container-id-3 div.sk-parallel-item:last-child::after {align-self: flex-start;width: 50%;}#sk-container-id-3 div.sk-parallel-item:only-child::after {width: 0;}#sk-container-id-3 div.sk-dashed-wrapped {border: 1px dashed gray;margin: 0 0.4em 0.5em 0.4em;box-sizing: border-box;padding-bottom: 0.4em;background-color: white;}#sk-container-id-3 div.sk-label label {font-family: monospace;font-weight: bold;display: inline-block;line-height: 1.2em;}#sk-container-id-3 div.sk-label-container {text-align: center;}#sk-container-id-3 div.sk-container {/* jupyter's `normalize.less` sets `[hidden] { display: none; }` but bootstrap.min.css set `[hidden] { display: none !important; }` so we also need the `!important` here to be able to override the default hidden behavior on the sphinx rendered scikit-learn.org. See: https://github.com/scikit-learn/scikit-learn/issues/21755 */display: inline-block !important;position: relative;}#sk-container-id-3 div.sk-text-repr-fallback {display: none;}</style><div id=\"sk-container-id-3\" class=\"sk-top-container\"><div class=\"sk-text-repr-fallback\"><pre>PCA(svd_solver=&#x27;full&#x27;)</pre><b>In a Jupyter environment, please rerun this cell to show the HTML representation or trust the notebook. <br />On GitHub, the HTML representation is unable to render, please try loading this page with nbviewer.org.</b></div><div class=\"sk-container\" hidden><div class=\"sk-item\"><div class=\"sk-estimator sk-toggleable\"><input class=\"sk-toggleable__control sk-hidden--visually\" id=\"sk-estimator-id-5\" type=\"checkbox\" checked><label for=\"sk-estimator-id-5\" class=\"sk-toggleable__label sk-toggleable__label-arrow\">PCA</label><div class=\"sk-toggleable__content\"><pre>PCA(svd_solver=&#x27;full&#x27;)</pre></div></div></div></div></div>"
            ],
            "text/plain": [
              "PCA(svd_solver='full')"
            ]
          },
          "execution_count": 81,
          "metadata": {},
          "output_type": "execute_result"
        }
      ],
      "source": [
        "# train the model PCA(svc_solver='full')\n",
        "from sklearn.decomposition import PCA\n",
        "pca = PCA(svd_solver='full')\n",
        "pca.fit(x_train)"
      ]
    },
    {
      "cell_type": "code",
      "execution_count": 93,
      "metadata": {},
      "outputs": [
        {
          "name": "stdout",
          "output_type": "stream",
          "text": [
            "The minimum number of components required for the level of explained variance to be greater than 0.95 is: 173\n"
          ]
        }
      ],
      "source": [
        "explained_variances = pca.explained_variance_ratio_\n",
        "cumulative_variances = np.cumsum(explained_variances)\n",
        "num_components_needed = np.argmax(cumulative_variances > 0.95) + 1\n",
        "print(\"The minimum number of components required for the level of explained variance to be greater than 0.95 is:\", num_components_needed)\n"
      ]
    },
    {
      "attachments": {},
      "cell_type": "markdown",
      "metadata": {
        "id": "rg9Q0G4ic5HZ"
      },
      "source": [
        "Заново обучите модель <code>PCA(svd_solver='full')</code> на тренировочных данных с использованием полученного числа ГК. Примените полученное преобразование для тренировочных и тестовых данных."
      ]
    },
    {
      "cell_type": "code",
      "execution_count": 95,
      "metadata": {
        "id": "DrFbJeBwPs0B"
      },
      "outputs": [],
      "source": [
        "pca = PCA(n_components=num_components_needed, svd_solver='full')\n",
        "X_train_pca = pca.fit_transform(x_train)\n",
        "X_test_pca = pca.transform(x_test)"
      ]
    },
    {
      "attachments": {},
      "cell_type": "markdown",
      "metadata": {
        "id": "N2NJjCbFdXZW"
      },
      "source": [
        "Для полученных после <code>PCA</code> данных аналогично проделанному ранее, то есть используя <code>GridSearchCV()</code>, осуществите подбор гиперпараметров, указанных в вашем задании. Отдельно обратите внимание на время обучения моделей."
      ]
    },
    {
      "cell_type": "code",
      "execution_count": 96,
      "metadata": {
        "id": "Osdm-hJQP50Q"
      },
      "outputs": [
        {
          "name": "stdout",
          "output_type": "stream",
          "text": [
            "Fitting 5 folds for each of 64 candidates, totalling 320 fits\n",
            "[CV 1/5] END C=1, class_weight=None, gamma=0.001, kernel=linear, random_state=13;, score=0.774 total time=   0.1s\n",
            "[CV 2/5] END C=1, class_weight=None, gamma=0.001, kernel=linear, random_state=13;, score=0.811 total time=   0.1s\n",
            "[CV 3/5] END C=1, class_weight=None, gamma=0.001, kernel=linear, random_state=13;, score=0.778 total time=   0.1s\n",
            "[CV 4/5] END C=1, class_weight=None, gamma=0.001, kernel=linear, random_state=13;, score=0.764 total time=   0.1s\n",
            "[CV 5/5] END C=1, class_weight=None, gamma=0.001, kernel=linear, random_state=13;, score=0.722 total time=   0.1s\n",
            "[CV 1/5] END C=1, class_weight=None, gamma=0.001, kernel=poly, random_state=13;, score=0.340 total time=   0.1s\n",
            "[CV 2/5] END C=1, class_weight=None, gamma=0.001, kernel=poly, random_state=13;, score=0.340 total time=   0.1s\n",
            "[CV 3/5] END C=1, class_weight=None, gamma=0.001, kernel=poly, random_state=13;, score=0.340 total time=   0.1s\n",
            "[CV 4/5] END C=1, class_weight=None, gamma=0.001, kernel=poly, random_state=13;, score=0.344 total time=   0.1s\n",
            "[CV 5/5] END C=1, class_weight=None, gamma=0.001, kernel=poly, random_state=13;, score=0.340 total time=   0.1s\n",
            "[CV 1/5] END C=1, class_weight=None, gamma=0.001, kernel=rbf, random_state=13;, score=0.425 total time=   0.2s\n",
            "[CV 2/5] END C=1, class_weight=None, gamma=0.001, kernel=rbf, random_state=13;, score=0.387 total time=   0.2s\n",
            "[CV 3/5] END C=1, class_weight=None, gamma=0.001, kernel=rbf, random_state=13;, score=0.401 total time=   0.2s\n",
            "[CV 4/5] END C=1, class_weight=None, gamma=0.001, kernel=rbf, random_state=13;, score=0.415 total time=   0.2s\n",
            "[CV 5/5] END C=1, class_weight=None, gamma=0.001, kernel=rbf, random_state=13;, score=0.387 total time=   0.2s\n",
            "[CV 1/5] END C=1, class_weight=None, gamma=0.001, kernel=sigmoid, random_state=13;, score=0.344 total time=   0.2s\n",
            "[CV 2/5] END C=1, class_weight=None, gamma=0.001, kernel=sigmoid, random_state=13;, score=0.340 total time=   0.2s\n",
            "[CV 3/5] END C=1, class_weight=None, gamma=0.001, kernel=sigmoid, random_state=13;, score=0.344 total time=   0.2s\n",
            "[CV 4/5] END C=1, class_weight=None, gamma=0.001, kernel=sigmoid, random_state=13;, score=0.354 total time=   0.2s\n",
            "[CV 5/5] END C=1, class_weight=None, gamma=0.001, kernel=sigmoid, random_state=13;, score=0.344 total time=   0.2s\n",
            "[CV 1/5] END C=1, class_weight=None, gamma=0.0001, kernel=linear, random_state=13;, score=0.774 total time=   0.1s\n",
            "[CV 2/5] END C=1, class_weight=None, gamma=0.0001, kernel=linear, random_state=13;, score=0.811 total time=   0.1s\n",
            "[CV 3/5] END C=1, class_weight=None, gamma=0.0001, kernel=linear, random_state=13;, score=0.778 total time=   0.1s\n",
            "[CV 4/5] END C=1, class_weight=None, gamma=0.0001, kernel=linear, random_state=13;, score=0.764 total time=   0.1s\n",
            "[CV 5/5] END C=1, class_weight=None, gamma=0.0001, kernel=linear, random_state=13;, score=0.722 total time=   0.1s\n",
            "[CV 1/5] END C=1, class_weight=None, gamma=0.0001, kernel=poly, random_state=13;, score=0.340 total time=   0.1s\n",
            "[CV 2/5] END C=1, class_weight=None, gamma=0.0001, kernel=poly, random_state=13;, score=0.340 total time=   0.1s\n",
            "[CV 3/5] END C=1, class_weight=None, gamma=0.0001, kernel=poly, random_state=13;, score=0.340 total time=   0.1s\n",
            "[CV 4/5] END C=1, class_weight=None, gamma=0.0001, kernel=poly, random_state=13;, score=0.344 total time=   0.1s\n",
            "[CV 5/5] END C=1, class_weight=None, gamma=0.0001, kernel=poly, random_state=13;, score=0.340 total time=   0.1s\n",
            "[CV 1/5] END C=1, class_weight=None, gamma=0.0001, kernel=rbf, random_state=13;, score=0.340 total time=   0.1s\n",
            "[CV 2/5] END C=1, class_weight=None, gamma=0.0001, kernel=rbf, random_state=13;, score=0.340 total time=   0.1s\n",
            "[CV 3/5] END C=1, class_weight=None, gamma=0.0001, kernel=rbf, random_state=13;, score=0.340 total time=   0.1s\n",
            "[CV 4/5] END C=1, class_weight=None, gamma=0.0001, kernel=rbf, random_state=13;, score=0.344 total time=   0.1s\n",
            "[CV 5/5] END C=1, class_weight=None, gamma=0.0001, kernel=rbf, random_state=13;, score=0.340 total time=   0.1s\n",
            "[CV 1/5] END C=1, class_weight=None, gamma=0.0001, kernel=sigmoid, random_state=13;, score=0.340 total time=   0.1s\n",
            "[CV 2/5] END C=1, class_weight=None, gamma=0.0001, kernel=sigmoid, random_state=13;, score=0.340 total time=   0.1s\n",
            "[CV 3/5] END C=1, class_weight=None, gamma=0.0001, kernel=sigmoid, random_state=13;, score=0.340 total time=   0.1s\n",
            "[CV 4/5] END C=1, class_weight=None, gamma=0.0001, kernel=sigmoid, random_state=13;, score=0.344 total time=   0.1s\n",
            "[CV 5/5] END C=1, class_weight=None, gamma=0.0001, kernel=sigmoid, random_state=13;, score=0.340 total time=   0.1s\n",
            "[CV 1/5] END C=1, class_weight=balanced, gamma=0.001, kernel=linear, random_state=13;, score=0.774 total time=   0.1s\n",
            "[CV 2/5] END C=1, class_weight=balanced, gamma=0.001, kernel=linear, random_state=13;, score=0.811 total time=   0.1s\n",
            "[CV 3/5] END C=1, class_weight=balanced, gamma=0.001, kernel=linear, random_state=13;, score=0.769 total time=   0.1s\n",
            "[CV 4/5] END C=1, class_weight=balanced, gamma=0.001, kernel=linear, random_state=13;, score=0.769 total time=   0.1s\n",
            "[CV 5/5] END C=1, class_weight=balanced, gamma=0.001, kernel=linear, random_state=13;, score=0.736 total time=   0.1s\n",
            "[CV 1/5] END C=1, class_weight=balanced, gamma=0.001, kernel=poly, random_state=13;, score=0.033 total time=   0.2s\n",
            "[CV 2/5] END C=1, class_weight=balanced, gamma=0.001, kernel=poly, random_state=13;, score=0.033 total time=   0.2s\n",
            "[CV 3/5] END C=1, class_weight=balanced, gamma=0.001, kernel=poly, random_state=13;, score=0.033 total time=   0.2s\n",
            "[CV 4/5] END C=1, class_weight=balanced, gamma=0.001, kernel=poly, random_state=13;, score=0.033 total time=   0.2s\n",
            "[CV 5/5] END C=1, class_weight=balanced, gamma=0.001, kernel=poly, random_state=13;, score=0.033 total time=   0.2s\n",
            "[CV 1/5] END C=1, class_weight=balanced, gamma=0.001, kernel=rbf, random_state=13;, score=0.330 total time=   0.2s\n",
            "[CV 2/5] END C=1, class_weight=balanced, gamma=0.001, kernel=rbf, random_state=13;, score=0.363 total time=   0.2s\n",
            "[CV 3/5] END C=1, class_weight=balanced, gamma=0.001, kernel=rbf, random_state=13;, score=0.344 total time=   0.2s\n",
            "[CV 4/5] END C=1, class_weight=balanced, gamma=0.001, kernel=rbf, random_state=13;, score=0.358 total time=   0.2s\n",
            "[CV 5/5] END C=1, class_weight=balanced, gamma=0.001, kernel=rbf, random_state=13;, score=0.335 total time=   0.2s\n",
            "[CV 1/5] END C=1, class_weight=balanced, gamma=0.001, kernel=sigmoid, random_state=13;, score=0.222 total time=   0.2s\n",
            "[CV 2/5] END C=1, class_weight=balanced, gamma=0.001, kernel=sigmoid, random_state=13;, score=0.208 total time=   0.2s\n",
            "[CV 3/5] END C=1, class_weight=balanced, gamma=0.001, kernel=sigmoid, random_state=13;, score=0.165 total time=   0.2s\n",
            "[CV 4/5] END C=1, class_weight=balanced, gamma=0.001, kernel=sigmoid, random_state=13;, score=0.236 total time=   0.2s\n",
            "[CV 5/5] END C=1, class_weight=balanced, gamma=0.001, kernel=sigmoid, random_state=13;, score=0.165 total time=   0.2s\n",
            "[CV 1/5] END C=1, class_weight=balanced, gamma=0.0001, kernel=linear, random_state=13;, score=0.774 total time=   0.1s\n",
            "[CV 2/5] END C=1, class_weight=balanced, gamma=0.0001, kernel=linear, random_state=13;, score=0.811 total time=   0.1s\n",
            "[CV 3/5] END C=1, class_weight=balanced, gamma=0.0001, kernel=linear, random_state=13;, score=0.769 total time=   0.1s\n",
            "[CV 4/5] END C=1, class_weight=balanced, gamma=0.0001, kernel=linear, random_state=13;, score=0.769 total time=   0.1s\n",
            "[CV 5/5] END C=1, class_weight=balanced, gamma=0.0001, kernel=linear, random_state=13;, score=0.736 total time=   0.1s\n",
            "[CV 1/5] END C=1, class_weight=balanced, gamma=0.0001, kernel=poly, random_state=13;, score=0.033 total time=   0.2s\n",
            "[CV 2/5] END C=1, class_weight=balanced, gamma=0.0001, kernel=poly, random_state=13;, score=0.033 total time=   0.2s\n",
            "[CV 3/5] END C=1, class_weight=balanced, gamma=0.0001, kernel=poly, random_state=13;, score=0.033 total time=   0.2s\n",
            "[CV 4/5] END C=1, class_weight=balanced, gamma=0.0001, kernel=poly, random_state=13;, score=0.033 total time=   0.2s\n",
            "[CV 5/5] END C=1, class_weight=balanced, gamma=0.0001, kernel=poly, random_state=13;, score=0.033 total time=   0.2s\n",
            "[CV 1/5] END C=1, class_weight=balanced, gamma=0.0001, kernel=rbf, random_state=13;, score=0.108 total time=   0.2s\n",
            "[CV 2/5] END C=1, class_weight=balanced, gamma=0.0001, kernel=rbf, random_state=13;, score=0.061 total time=   0.2s\n",
            "[CV 3/5] END C=1, class_weight=balanced, gamma=0.0001, kernel=rbf, random_state=13;, score=0.094 total time=   0.2s\n",
            "[CV 4/5] END C=1, class_weight=balanced, gamma=0.0001, kernel=rbf, random_state=13;, score=0.344 total time=   0.2s\n",
            "[CV 5/5] END C=1, class_weight=balanced, gamma=0.0001, kernel=rbf, random_state=13;, score=0.080 total time=   0.2s\n",
            "[CV 1/5] END C=1, class_weight=balanced, gamma=0.0001, kernel=sigmoid, random_state=13;, score=0.085 total time=   0.3s\n",
            "[CV 2/5] END C=1, class_weight=balanced, gamma=0.0001, kernel=sigmoid, random_state=13;, score=0.033 total time=   0.3s\n",
            "[CV 3/5] END C=1, class_weight=balanced, gamma=0.0001, kernel=sigmoid, random_state=13;, score=0.085 total time=   0.3s\n",
            "[CV 4/5] END C=1, class_weight=balanced, gamma=0.0001, kernel=sigmoid, random_state=13;, score=0.363 total time=   0.3s\n",
            "[CV 5/5] END C=1, class_weight=balanced, gamma=0.0001, kernel=sigmoid, random_state=13;, score=0.075 total time=   0.3s\n",
            "[CV 1/5] END C=10, class_weight=None, gamma=0.001, kernel=linear, random_state=13;, score=0.774 total time=   0.1s\n",
            "[CV 2/5] END C=10, class_weight=None, gamma=0.001, kernel=linear, random_state=13;, score=0.807 total time=   0.1s\n",
            "[CV 3/5] END C=10, class_weight=None, gamma=0.001, kernel=linear, random_state=13;, score=0.778 total time=   0.1s\n",
            "[CV 4/5] END C=10, class_weight=None, gamma=0.001, kernel=linear, random_state=13;, score=0.764 total time=   0.1s\n",
            "[CV 5/5] END C=10, class_weight=None, gamma=0.001, kernel=linear, random_state=13;, score=0.722 total time=   0.1s\n",
            "[CV 1/5] END C=10, class_weight=None, gamma=0.001, kernel=poly, random_state=13;, score=0.340 total time=   0.1s\n",
            "[CV 2/5] END C=10, class_weight=None, gamma=0.001, kernel=poly, random_state=13;, score=0.340 total time=   0.1s\n",
            "[CV 3/5] END C=10, class_weight=None, gamma=0.001, kernel=poly, random_state=13;, score=0.340 total time=   0.1s\n",
            "[CV 4/5] END C=10, class_weight=None, gamma=0.001, kernel=poly, random_state=13;, score=0.344 total time=   0.1s\n",
            "[CV 5/5] END C=10, class_weight=None, gamma=0.001, kernel=poly, random_state=13;, score=0.340 total time=   0.1s\n",
            "[CV 1/5] END C=10, class_weight=None, gamma=0.001, kernel=rbf, random_state=13;, score=0.750 total time=   0.1s\n",
            "[CV 2/5] END C=10, class_weight=None, gamma=0.001, kernel=rbf, random_state=13;, score=0.731 total time=   0.1s\n",
            "[CV 3/5] END C=10, class_weight=None, gamma=0.001, kernel=rbf, random_state=13;, score=0.745 total time=   0.2s\n",
            "[CV 4/5] END C=10, class_weight=None, gamma=0.001, kernel=rbf, random_state=13;, score=0.731 total time=   0.2s\n",
            "[CV 5/5] END C=10, class_weight=None, gamma=0.001, kernel=rbf, random_state=13;, score=0.712 total time=   0.2s\n",
            "[CV 1/5] END C=10, class_weight=None, gamma=0.001, kernel=sigmoid, random_state=13;, score=0.623 total time=   0.2s\n",
            "[CV 2/5] END C=10, class_weight=None, gamma=0.001, kernel=sigmoid, random_state=13;, score=0.623 total time=   0.2s\n",
            "[CV 3/5] END C=10, class_weight=None, gamma=0.001, kernel=sigmoid, random_state=13;, score=0.632 total time=   0.2s\n",
            "[CV 4/5] END C=10, class_weight=None, gamma=0.001, kernel=sigmoid, random_state=13;, score=0.627 total time=   0.2s\n",
            "[CV 5/5] END C=10, class_weight=None, gamma=0.001, kernel=sigmoid, random_state=13;, score=0.604 total time=   0.1s\n",
            "[CV 1/5] END C=10, class_weight=None, gamma=0.0001, kernel=linear, random_state=13;, score=0.774 total time=   0.1s\n",
            "[CV 2/5] END C=10, class_weight=None, gamma=0.0001, kernel=linear, random_state=13;, score=0.807 total time=   0.1s\n",
            "[CV 3/5] END C=10, class_weight=None, gamma=0.0001, kernel=linear, random_state=13;, score=0.778 total time=   0.1s\n",
            "[CV 4/5] END C=10, class_weight=None, gamma=0.0001, kernel=linear, random_state=13;, score=0.764 total time=   0.1s\n",
            "[CV 5/5] END C=10, class_weight=None, gamma=0.0001, kernel=linear, random_state=13;, score=0.722 total time=   0.1s\n",
            "[CV 1/5] END C=10, class_weight=None, gamma=0.0001, kernel=poly, random_state=13;, score=0.340 total time=   0.1s\n",
            "[CV 2/5] END C=10, class_weight=None, gamma=0.0001, kernel=poly, random_state=13;, score=0.340 total time=   0.1s\n",
            "[CV 3/5] END C=10, class_weight=None, gamma=0.0001, kernel=poly, random_state=13;, score=0.340 total time=   0.1s\n",
            "[CV 4/5] END C=10, class_weight=None, gamma=0.0001, kernel=poly, random_state=13;, score=0.344 total time=   0.1s\n",
            "[CV 5/5] END C=10, class_weight=None, gamma=0.0001, kernel=poly, random_state=13;, score=0.340 total time=   0.1s\n",
            "[CV 1/5] END C=10, class_weight=None, gamma=0.0001, kernel=rbf, random_state=13;, score=0.425 total time=   0.2s\n",
            "[CV 2/5] END C=10, class_weight=None, gamma=0.0001, kernel=rbf, random_state=13;, score=0.410 total time=   0.2s\n",
            "[CV 3/5] END C=10, class_weight=None, gamma=0.0001, kernel=rbf, random_state=13;, score=0.420 total time=   0.2s\n",
            "[CV 4/5] END C=10, class_weight=None, gamma=0.0001, kernel=rbf, random_state=13;, score=0.415 total time=   0.2s\n",
            "[CV 5/5] END C=10, class_weight=None, gamma=0.0001, kernel=rbf, random_state=13;, score=0.387 total time=   0.2s\n",
            "[CV 1/5] END C=10, class_weight=None, gamma=0.0001, kernel=sigmoid, random_state=13;, score=0.344 total time=   0.2s\n",
            "[CV 2/5] END C=10, class_weight=None, gamma=0.0001, kernel=sigmoid, random_state=13;, score=0.340 total time=   0.2s\n",
            "[CV 3/5] END C=10, class_weight=None, gamma=0.0001, kernel=sigmoid, random_state=13;, score=0.344 total time=   0.2s\n",
            "[CV 4/5] END C=10, class_weight=None, gamma=0.0001, kernel=sigmoid, random_state=13;, score=0.354 total time=   0.2s\n",
            "[CV 5/5] END C=10, class_weight=None, gamma=0.0001, kernel=sigmoid, random_state=13;, score=0.344 total time=   0.2s\n",
            "[CV 1/5] END C=10, class_weight=balanced, gamma=0.001, kernel=linear, random_state=13;, score=0.774 total time=   0.1s\n",
            "[CV 2/5] END C=10, class_weight=balanced, gamma=0.001, kernel=linear, random_state=13;, score=0.807 total time=   0.1s\n",
            "[CV 3/5] END C=10, class_weight=balanced, gamma=0.001, kernel=linear, random_state=13;, score=0.778 total time=   0.1s\n",
            "[CV 4/5] END C=10, class_weight=balanced, gamma=0.001, kernel=linear, random_state=13;, score=0.764 total time=   0.1s\n",
            "[CV 5/5] END C=10, class_weight=balanced, gamma=0.001, kernel=linear, random_state=13;, score=0.722 total time=   0.1s\n",
            "[CV 1/5] END C=10, class_weight=balanced, gamma=0.001, kernel=poly, random_state=13;, score=0.047 total time=   0.2s\n",
            "[CV 2/5] END C=10, class_weight=balanced, gamma=0.001, kernel=poly, random_state=13;, score=0.033 total time=   0.2s\n",
            "[CV 3/5] END C=10, class_weight=balanced, gamma=0.001, kernel=poly, random_state=13;, score=0.042 total time=   0.2s\n",
            "[CV 4/5] END C=10, class_weight=balanced, gamma=0.001, kernel=poly, random_state=13;, score=0.047 total time=   0.2s\n",
            "[CV 5/5] END C=10, class_weight=balanced, gamma=0.001, kernel=poly, random_state=13;, score=0.165 total time=   0.2s\n",
            "[CV 1/5] END C=10, class_weight=balanced, gamma=0.001, kernel=rbf, random_state=13;, score=0.731 total time=   0.2s\n",
            "[CV 2/5] END C=10, class_weight=balanced, gamma=0.001, kernel=rbf, random_state=13;, score=0.783 total time=   0.2s\n",
            "[CV 3/5] END C=10, class_weight=balanced, gamma=0.001, kernel=rbf, random_state=13;, score=0.769 total time=   0.2s\n",
            "[CV 4/5] END C=10, class_weight=balanced, gamma=0.001, kernel=rbf, random_state=13;, score=0.708 total time=   0.2s\n",
            "[CV 5/5] END C=10, class_weight=balanced, gamma=0.001, kernel=rbf, random_state=13;, score=0.726 total time=   0.2s\n",
            "[CV 1/5] END C=10, class_weight=balanced, gamma=0.001, kernel=sigmoid, random_state=13;, score=0.646 total time=   0.2s\n",
            "[CV 2/5] END C=10, class_weight=balanced, gamma=0.001, kernel=sigmoid, random_state=13;, score=0.684 total time=   0.2s\n",
            "[CV 3/5] END C=10, class_weight=balanced, gamma=0.001, kernel=sigmoid, random_state=13;, score=0.708 total time=   0.2s\n",
            "[CV 4/5] END C=10, class_weight=balanced, gamma=0.001, kernel=sigmoid, random_state=13;, score=0.646 total time=   0.2s\n",
            "[CV 5/5] END C=10, class_weight=balanced, gamma=0.001, kernel=sigmoid, random_state=13;, score=0.693 total time=   0.2s\n",
            "[CV 1/5] END C=10, class_weight=balanced, gamma=0.0001, kernel=linear, random_state=13;, score=0.774 total time=   0.1s\n",
            "[CV 2/5] END C=10, class_weight=balanced, gamma=0.0001, kernel=linear, random_state=13;, score=0.807 total time=   0.1s\n",
            "[CV 3/5] END C=10, class_weight=balanced, gamma=0.0001, kernel=linear, random_state=13;, score=0.778 total time=   0.1s\n",
            "[CV 4/5] END C=10, class_weight=balanced, gamma=0.0001, kernel=linear, random_state=13;, score=0.764 total time=   0.1s\n",
            "[CV 5/5] END C=10, class_weight=balanced, gamma=0.0001, kernel=linear, random_state=13;, score=0.722 total time=   0.1s\n",
            "[CV 1/5] END C=10, class_weight=balanced, gamma=0.0001, kernel=poly, random_state=13;, score=0.033 total time=   0.2s\n",
            "[CV 2/5] END C=10, class_weight=balanced, gamma=0.0001, kernel=poly, random_state=13;, score=0.033 total time=   0.2s\n",
            "[CV 3/5] END C=10, class_weight=balanced, gamma=0.0001, kernel=poly, random_state=13;, score=0.033 total time=   0.3s\n",
            "[CV 4/5] END C=10, class_weight=balanced, gamma=0.0001, kernel=poly, random_state=13;, score=0.033 total time=   0.4s\n",
            "[CV 5/5] END C=10, class_weight=balanced, gamma=0.0001, kernel=poly, random_state=13;, score=0.156 total time=   0.3s\n",
            "[CV 1/5] END C=10, class_weight=balanced, gamma=0.0001, kernel=rbf, random_state=13;, score=0.292 total time=   0.4s\n",
            "[CV 2/5] END C=10, class_weight=balanced, gamma=0.0001, kernel=rbf, random_state=13;, score=0.425 total time=   0.4s\n",
            "[CV 3/5] END C=10, class_weight=balanced, gamma=0.0001, kernel=rbf, random_state=13;, score=0.368 total time=   0.4s\n",
            "[CV 4/5] END C=10, class_weight=balanced, gamma=0.0001, kernel=rbf, random_state=13;, score=0.377 total time=   0.4s\n",
            "[CV 5/5] END C=10, class_weight=balanced, gamma=0.0001, kernel=rbf, random_state=13;, score=0.354 total time=   0.4s\n",
            "[CV 1/5] END C=10, class_weight=balanced, gamma=0.0001, kernel=sigmoid, random_state=13;, score=0.179 total time=   0.4s\n",
            "[CV 2/5] END C=10, class_weight=balanced, gamma=0.0001, kernel=sigmoid, random_state=13;, score=0.264 total time=   0.4s\n",
            "[CV 3/5] END C=10, class_weight=balanced, gamma=0.0001, kernel=sigmoid, random_state=13;, score=0.231 total time=   0.4s\n",
            "[CV 4/5] END C=10, class_weight=balanced, gamma=0.0001, kernel=sigmoid, random_state=13;, score=0.198 total time=   0.4s\n",
            "[CV 5/5] END C=10, class_weight=balanced, gamma=0.0001, kernel=sigmoid, random_state=13;, score=0.165 total time=   0.4s\n",
            "[CV 1/5] END C=100, class_weight=None, gamma=0.001, kernel=linear, random_state=13;, score=0.774 total time=   0.2s\n",
            "[CV 2/5] END C=100, class_weight=None, gamma=0.001, kernel=linear, random_state=13;, score=0.807 total time=   0.2s\n",
            "[CV 3/5] END C=100, class_weight=None, gamma=0.001, kernel=linear, random_state=13;, score=0.778 total time=   0.2s\n",
            "[CV 4/5] END C=100, class_weight=None, gamma=0.001, kernel=linear, random_state=13;, score=0.764 total time=   0.2s\n",
            "[CV 5/5] END C=100, class_weight=None, gamma=0.001, kernel=linear, random_state=13;, score=0.722 total time=   0.2s\n",
            "[CV 1/5] END C=100, class_weight=None, gamma=0.001, kernel=poly, random_state=13;, score=0.358 total time=   0.2s\n",
            "[CV 2/5] END C=100, class_weight=None, gamma=0.001, kernel=poly, random_state=13;, score=0.340 total time=   0.2s\n",
            "[CV 3/5] END C=100, class_weight=None, gamma=0.001, kernel=poly, random_state=13;, score=0.358 total time=   0.2s\n",
            "[CV 4/5] END C=100, class_weight=None, gamma=0.001, kernel=poly, random_state=13;, score=0.363 total time=   0.2s\n",
            "[CV 5/5] END C=100, class_weight=None, gamma=0.001, kernel=poly, random_state=13;, score=0.349 total time=   0.2s\n",
            "[CV 1/5] END C=100, class_weight=None, gamma=0.001, kernel=rbf, random_state=13;, score=0.783 total time=   0.2s\n",
            "[CV 2/5] END C=100, class_weight=None, gamma=0.001, kernel=rbf, random_state=13;, score=0.821 total time=   0.2s\n",
            "[CV 3/5] END C=100, class_weight=None, gamma=0.001, kernel=rbf, random_state=13;, score=0.797 total time=   0.2s\n",
            "[CV 4/5] END C=100, class_weight=None, gamma=0.001, kernel=rbf, random_state=13;, score=0.750 total time=   0.2s\n",
            "[CV 5/5] END C=100, class_weight=None, gamma=0.001, kernel=rbf, random_state=13;, score=0.722 total time=   0.2s\n",
            "[CV 1/5] END C=100, class_weight=None, gamma=0.001, kernel=sigmoid, random_state=13;, score=0.783 total time=   0.2s\n",
            "[CV 2/5] END C=100, class_weight=None, gamma=0.001, kernel=sigmoid, random_state=13;, score=0.811 total time=   0.1s\n",
            "[CV 3/5] END C=100, class_weight=None, gamma=0.001, kernel=sigmoid, random_state=13;, score=0.788 total time=   0.1s\n",
            "[CV 4/5] END C=100, class_weight=None, gamma=0.001, kernel=sigmoid, random_state=13;, score=0.788 total time=   0.1s\n",
            "[CV 5/5] END C=100, class_weight=None, gamma=0.001, kernel=sigmoid, random_state=13;, score=0.741 total time=   0.1s\n",
            "[CV 1/5] END C=100, class_weight=None, gamma=0.0001, kernel=linear, random_state=13;, score=0.774 total time=   0.1s\n",
            "[CV 2/5] END C=100, class_weight=None, gamma=0.0001, kernel=linear, random_state=13;, score=0.807 total time=   0.1s\n",
            "[CV 3/5] END C=100, class_weight=None, gamma=0.0001, kernel=linear, random_state=13;, score=0.778 total time=   0.1s\n",
            "[CV 4/5] END C=100, class_weight=None, gamma=0.0001, kernel=linear, random_state=13;, score=0.764 total time=   0.1s\n",
            "[CV 5/5] END C=100, class_weight=None, gamma=0.0001, kernel=linear, random_state=13;, score=0.722 total time=   0.1s\n",
            "[CV 1/5] END C=100, class_weight=None, gamma=0.0001, kernel=poly, random_state=13;, score=0.340 total time=   0.1s\n",
            "[CV 2/5] END C=100, class_weight=None, gamma=0.0001, kernel=poly, random_state=13;, score=0.340 total time=   0.1s\n",
            "[CV 3/5] END C=100, class_weight=None, gamma=0.0001, kernel=poly, random_state=13;, score=0.340 total time=   0.1s\n",
            "[CV 4/5] END C=100, class_weight=None, gamma=0.0001, kernel=poly, random_state=13;, score=0.344 total time=   0.1s\n",
            "[CV 5/5] END C=100, class_weight=None, gamma=0.0001, kernel=poly, random_state=13;, score=0.340 total time=   0.1s\n",
            "[CV 1/5] END C=100, class_weight=None, gamma=0.0001, kernel=rbf, random_state=13;, score=0.755 total time=   0.1s\n",
            "[CV 2/5] END C=100, class_weight=None, gamma=0.0001, kernel=rbf, random_state=13;, score=0.741 total time=   0.1s\n",
            "[CV 3/5] END C=100, class_weight=None, gamma=0.0001, kernel=rbf, random_state=13;, score=0.731 total time=   0.1s\n",
            "[CV 4/5] END C=100, class_weight=None, gamma=0.0001, kernel=rbf, random_state=13;, score=0.741 total time=   0.1s\n",
            "[CV 5/5] END C=100, class_weight=None, gamma=0.0001, kernel=rbf, random_state=13;, score=0.712 total time=   0.1s\n",
            "[CV 1/5] END C=100, class_weight=None, gamma=0.0001, kernel=sigmoid, random_state=13;, score=0.623 total time=   0.1s\n",
            "[CV 2/5] END C=100, class_weight=None, gamma=0.0001, kernel=sigmoid, random_state=13;, score=0.623 total time=   0.1s\n",
            "[CV 3/5] END C=100, class_weight=None, gamma=0.0001, kernel=sigmoid, random_state=13;, score=0.632 total time=   0.1s\n",
            "[CV 4/5] END C=100, class_weight=None, gamma=0.0001, kernel=sigmoid, random_state=13;, score=0.627 total time=   0.1s\n",
            "[CV 5/5] END C=100, class_weight=None, gamma=0.0001, kernel=sigmoid, random_state=13;, score=0.604 total time=   0.1s\n",
            "[CV 1/5] END C=100, class_weight=balanced, gamma=0.001, kernel=linear, random_state=13;, score=0.774 total time=   0.1s\n",
            "[CV 2/5] END C=100, class_weight=balanced, gamma=0.001, kernel=linear, random_state=13;, score=0.807 total time=   0.1s\n",
            "[CV 3/5] END C=100, class_weight=balanced, gamma=0.001, kernel=linear, random_state=13;, score=0.778 total time=   0.1s\n",
            "[CV 4/5] END C=100, class_weight=balanced, gamma=0.001, kernel=linear, random_state=13;, score=0.764 total time=   0.1s\n",
            "[CV 5/5] END C=100, class_weight=balanced, gamma=0.001, kernel=linear, random_state=13;, score=0.722 total time=   0.1s\n",
            "[CV 1/5] END C=100, class_weight=balanced, gamma=0.001, kernel=poly, random_state=13;, score=0.066 total time=   0.2s\n",
            "[CV 2/5] END C=100, class_weight=balanced, gamma=0.001, kernel=poly, random_state=13;, score=0.066 total time=   0.2s\n",
            "[CV 3/5] END C=100, class_weight=balanced, gamma=0.001, kernel=poly, random_state=13;, score=0.132 total time=   0.2s\n",
            "[CV 4/5] END C=100, class_weight=balanced, gamma=0.001, kernel=poly, random_state=13;, score=0.085 total time=   0.2s\n",
            "[CV 5/5] END C=100, class_weight=balanced, gamma=0.001, kernel=poly, random_state=13;, score=0.104 total time=   0.2s\n",
            "[CV 1/5] END C=100, class_weight=balanced, gamma=0.001, kernel=rbf, random_state=13;, score=0.797 total time=   0.1s\n",
            "[CV 2/5] END C=100, class_weight=balanced, gamma=0.001, kernel=rbf, random_state=13;, score=0.830 total time=   0.1s\n",
            "[CV 3/5] END C=100, class_weight=balanced, gamma=0.001, kernel=rbf, random_state=13;, score=0.797 total time=   0.1s\n",
            "[CV 4/5] END C=100, class_weight=balanced, gamma=0.001, kernel=rbf, random_state=13;, score=0.759 total time=   0.1s\n",
            "[CV 5/5] END C=100, class_weight=balanced, gamma=0.001, kernel=rbf, random_state=13;, score=0.708 total time=   0.1s\n",
            "[CV 1/5] END C=100, class_weight=balanced, gamma=0.001, kernel=sigmoid, random_state=13;, score=0.783 total time=   0.1s\n",
            "[CV 2/5] END C=100, class_weight=balanced, gamma=0.001, kernel=sigmoid, random_state=13;, score=0.807 total time=   0.1s\n",
            "[CV 3/5] END C=100, class_weight=balanced, gamma=0.001, kernel=sigmoid, random_state=13;, score=0.783 total time=   0.1s\n",
            "[CV 4/5] END C=100, class_weight=balanced, gamma=0.001, kernel=sigmoid, random_state=13;, score=0.774 total time=   0.1s\n",
            "[CV 5/5] END C=100, class_weight=balanced, gamma=0.001, kernel=sigmoid, random_state=13;, score=0.759 total time=   0.1s\n",
            "[CV 1/5] END C=100, class_weight=balanced, gamma=0.0001, kernel=linear, random_state=13;, score=0.774 total time=   0.1s\n",
            "[CV 2/5] END C=100, class_weight=balanced, gamma=0.0001, kernel=linear, random_state=13;, score=0.807 total time=   0.1s\n",
            "[CV 3/5] END C=100, class_weight=balanced, gamma=0.0001, kernel=linear, random_state=13;, score=0.778 total time=   0.1s\n",
            "[CV 4/5] END C=100, class_weight=balanced, gamma=0.0001, kernel=linear, random_state=13;, score=0.764 total time=   0.1s\n",
            "[CV 5/5] END C=100, class_weight=balanced, gamma=0.0001, kernel=linear, random_state=13;, score=0.722 total time=   0.1s\n",
            "[CV 1/5] END C=100, class_weight=balanced, gamma=0.0001, kernel=poly, random_state=13;, score=0.038 total time=   0.2s\n",
            "[CV 2/5] END C=100, class_weight=balanced, gamma=0.0001, kernel=poly, random_state=13;, score=0.052 total time=   0.2s\n",
            "[CV 3/5] END C=100, class_weight=balanced, gamma=0.0001, kernel=poly, random_state=13;, score=0.052 total time=   0.2s\n",
            "[CV 4/5] END C=100, class_weight=balanced, gamma=0.0001, kernel=poly, random_state=13;, score=0.042 total time=   0.2s\n",
            "[CV 5/5] END C=100, class_weight=balanced, gamma=0.0001, kernel=poly, random_state=13;, score=0.156 total time=   0.2s\n",
            "[CV 1/5] END C=100, class_weight=balanced, gamma=0.0001, kernel=rbf, random_state=13;, score=0.731 total time=   0.2s\n",
            "[CV 2/5] END C=100, class_weight=balanced, gamma=0.0001, kernel=rbf, random_state=13;, score=0.750 total time=   0.2s\n",
            "[CV 3/5] END C=100, class_weight=balanced, gamma=0.0001, kernel=rbf, random_state=13;, score=0.764 total time=   0.2s\n",
            "[CV 4/5] END C=100, class_weight=balanced, gamma=0.0001, kernel=rbf, random_state=13;, score=0.698 total time=   0.2s\n",
            "[CV 5/5] END C=100, class_weight=balanced, gamma=0.0001, kernel=rbf, random_state=13;, score=0.717 total time=   0.2s\n",
            "[CV 1/5] END C=100, class_weight=balanced, gamma=0.0001, kernel=sigmoid, random_state=13;, score=0.646 total time=   0.2s\n",
            "[CV 2/5] END C=100, class_weight=balanced, gamma=0.0001, kernel=sigmoid, random_state=13;, score=0.689 total time=   0.2s\n",
            "[CV 3/5] END C=100, class_weight=balanced, gamma=0.0001, kernel=sigmoid, random_state=13;, score=0.708 total time=   0.2s\n",
            "[CV 4/5] END C=100, class_weight=balanced, gamma=0.0001, kernel=sigmoid, random_state=13;, score=0.646 total time=   0.2s\n",
            "[CV 5/5] END C=100, class_weight=balanced, gamma=0.0001, kernel=sigmoid, random_state=13;, score=0.693 total time=   0.2s\n",
            "[CV 1/5] END C=1000, class_weight=None, gamma=0.001, kernel=linear, random_state=13;, score=0.774 total time=   0.1s\n",
            "[CV 2/5] END C=1000, class_weight=None, gamma=0.001, kernel=linear, random_state=13;, score=0.807 total time=   0.1s\n",
            "[CV 3/5] END C=1000, class_weight=None, gamma=0.001, kernel=linear, random_state=13;, score=0.778 total time=   0.1s\n",
            "[CV 4/5] END C=1000, class_weight=None, gamma=0.001, kernel=linear, random_state=13;, score=0.764 total time=   0.1s\n",
            "[CV 5/5] END C=1000, class_weight=None, gamma=0.001, kernel=linear, random_state=13;, score=0.722 total time=   0.1s\n",
            "[CV 1/5] END C=1000, class_weight=None, gamma=0.001, kernel=poly, random_state=13;, score=0.382 total time=   0.1s\n",
            "[CV 2/5] END C=1000, class_weight=None, gamma=0.001, kernel=poly, random_state=13;, score=0.354 total time=   0.2s\n",
            "[CV 3/5] END C=1000, class_weight=None, gamma=0.001, kernel=poly, random_state=13;, score=0.373 total time=   0.2s\n",
            "[CV 4/5] END C=1000, class_weight=None, gamma=0.001, kernel=poly, random_state=13;, score=0.392 total time=   0.1s\n",
            "[CV 5/5] END C=1000, class_weight=None, gamma=0.001, kernel=poly, random_state=13;, score=0.354 total time=   0.1s\n",
            "[CV 1/5] END C=1000, class_weight=None, gamma=0.001, kernel=rbf, random_state=13;, score=0.783 total time=   0.1s\n",
            "[CV 2/5] END C=1000, class_weight=None, gamma=0.001, kernel=rbf, random_state=13;, score=0.816 total time=   0.1s\n",
            "[CV 3/5] END C=1000, class_weight=None, gamma=0.001, kernel=rbf, random_state=13;, score=0.797 total time=   0.1s\n",
            "[CV 4/5] END C=1000, class_weight=None, gamma=0.001, kernel=rbf, random_state=13;, score=0.736 total time=   0.1s\n",
            "[CV 5/5] END C=1000, class_weight=None, gamma=0.001, kernel=rbf, random_state=13;, score=0.703 total time=   0.1s\n",
            "[CV 1/5] END C=1000, class_weight=None, gamma=0.001, kernel=sigmoid, random_state=13;, score=0.764 total time=   0.1s\n",
            "[CV 2/5] END C=1000, class_weight=None, gamma=0.001, kernel=sigmoid, random_state=13;, score=0.802 total time=   0.1s\n",
            "[CV 3/5] END C=1000, class_weight=None, gamma=0.001, kernel=sigmoid, random_state=13;, score=0.778 total time=   0.1s\n",
            "[CV 4/5] END C=1000, class_weight=None, gamma=0.001, kernel=sigmoid, random_state=13;, score=0.764 total time=   0.1s\n",
            "[CV 5/5] END C=1000, class_weight=None, gamma=0.001, kernel=sigmoid, random_state=13;, score=0.726 total time=   0.1s\n",
            "[CV 1/5] END C=1000, class_weight=None, gamma=0.0001, kernel=linear, random_state=13;, score=0.774 total time=   0.1s\n",
            "[CV 2/5] END C=1000, class_weight=None, gamma=0.0001, kernel=linear, random_state=13;, score=0.807 total time=   0.1s\n",
            "[CV 3/5] END C=1000, class_weight=None, gamma=0.0001, kernel=linear, random_state=13;, score=0.778 total time=   0.1s\n",
            "[CV 4/5] END C=1000, class_weight=None, gamma=0.0001, kernel=linear, random_state=13;, score=0.764 total time=   0.1s\n",
            "[CV 5/5] END C=1000, class_weight=None, gamma=0.0001, kernel=linear, random_state=13;, score=0.722 total time=   0.1s\n",
            "[CV 1/5] END C=1000, class_weight=None, gamma=0.0001, kernel=poly, random_state=13;, score=0.340 total time=   0.1s\n",
            "[CV 2/5] END C=1000, class_weight=None, gamma=0.0001, kernel=poly, random_state=13;, score=0.340 total time=   0.1s\n",
            "[CV 3/5] END C=1000, class_weight=None, gamma=0.0001, kernel=poly, random_state=13;, score=0.340 total time=   0.1s\n",
            "[CV 4/5] END C=1000, class_weight=None, gamma=0.0001, kernel=poly, random_state=13;, score=0.344 total time=   0.1s\n",
            "[CV 5/5] END C=1000, class_weight=None, gamma=0.0001, kernel=poly, random_state=13;, score=0.340 total time=   0.1s\n",
            "[CV 1/5] END C=1000, class_weight=None, gamma=0.0001, kernel=rbf, random_state=13;, score=0.778 total time=   0.1s\n",
            "[CV 2/5] END C=1000, class_weight=None, gamma=0.0001, kernel=rbf, random_state=13;, score=0.807 total time=   0.1s\n",
            "[CV 3/5] END C=1000, class_weight=None, gamma=0.0001, kernel=rbf, random_state=13;, score=0.774 total time=   0.1s\n",
            "[CV 4/5] END C=1000, class_weight=None, gamma=0.0001, kernel=rbf, random_state=13;, score=0.755 total time=   0.1s\n",
            "[CV 5/5] END C=1000, class_weight=None, gamma=0.0001, kernel=rbf, random_state=13;, score=0.736 total time=   0.1s\n",
            "[CV 1/5] END C=1000, class_weight=None, gamma=0.0001, kernel=sigmoid, random_state=13;, score=0.778 total time=   0.1s\n",
            "[CV 2/5] END C=1000, class_weight=None, gamma=0.0001, kernel=sigmoid, random_state=13;, score=0.811 total time=   0.1s\n",
            "[CV 3/5] END C=1000, class_weight=None, gamma=0.0001, kernel=sigmoid, random_state=13;, score=0.788 total time=   0.1s\n",
            "[CV 4/5] END C=1000, class_weight=None, gamma=0.0001, kernel=sigmoid, random_state=13;, score=0.788 total time=   0.1s\n",
            "[CV 5/5] END C=1000, class_weight=None, gamma=0.0001, kernel=sigmoid, random_state=13;, score=0.745 total time=   0.1s\n",
            "[CV 1/5] END C=1000, class_weight=balanced, gamma=0.001, kernel=linear, random_state=13;, score=0.774 total time=   0.1s\n",
            "[CV 2/5] END C=1000, class_weight=balanced, gamma=0.001, kernel=linear, random_state=13;, score=0.807 total time=   0.1s\n",
            "[CV 3/5] END C=1000, class_weight=balanced, gamma=0.001, kernel=linear, random_state=13;, score=0.778 total time=   0.1s\n",
            "[CV 4/5] END C=1000, class_weight=balanced, gamma=0.001, kernel=linear, random_state=13;, score=0.764 total time=   0.1s\n",
            "[CV 5/5] END C=1000, class_weight=balanced, gamma=0.001, kernel=linear, random_state=13;, score=0.722 total time=   0.1s\n",
            "[CV 1/5] END C=1000, class_weight=balanced, gamma=0.001, kernel=poly, random_state=13;, score=0.396 total time=   0.2s\n",
            "[CV 2/5] END C=1000, class_weight=balanced, gamma=0.001, kernel=poly, random_state=13;, score=0.458 total time=   0.2s\n",
            "[CV 3/5] END C=1000, class_weight=balanced, gamma=0.001, kernel=poly, random_state=13;, score=0.453 total time=   0.2s\n",
            "[CV 4/5] END C=1000, class_weight=balanced, gamma=0.001, kernel=poly, random_state=13;, score=0.453 total time=   0.2s\n",
            "[CV 5/5] END C=1000, class_weight=balanced, gamma=0.001, kernel=poly, random_state=13;, score=0.453 total time=   0.2s\n",
            "[CV 1/5] END C=1000, class_weight=balanced, gamma=0.001, kernel=rbf, random_state=13;, score=0.783 total time=   0.1s\n",
            "[CV 2/5] END C=1000, class_weight=balanced, gamma=0.001, kernel=rbf, random_state=13;, score=0.816 total time=   0.1s\n",
            "[CV 3/5] END C=1000, class_weight=balanced, gamma=0.001, kernel=rbf, random_state=13;, score=0.797 total time=   0.1s\n",
            "[CV 4/5] END C=1000, class_weight=balanced, gamma=0.001, kernel=rbf, random_state=13;, score=0.736 total time=   0.1s\n",
            "[CV 5/5] END C=1000, class_weight=balanced, gamma=0.001, kernel=rbf, random_state=13;, score=0.703 total time=   0.1s\n",
            "[CV 1/5] END C=1000, class_weight=balanced, gamma=0.001, kernel=sigmoid, random_state=13;, score=0.769 total time=   0.1s\n",
            "[CV 2/5] END C=1000, class_weight=balanced, gamma=0.001, kernel=sigmoid, random_state=13;, score=0.797 total time=   0.1s\n",
            "[CV 3/5] END C=1000, class_weight=balanced, gamma=0.001, kernel=sigmoid, random_state=13;, score=0.774 total time=   0.1s\n",
            "[CV 4/5] END C=1000, class_weight=balanced, gamma=0.001, kernel=sigmoid, random_state=13;, score=0.774 total time=   0.1s\n",
            "[CV 5/5] END C=1000, class_weight=balanced, gamma=0.001, kernel=sigmoid, random_state=13;, score=0.741 total time=   0.1s\n",
            "[CV 1/5] END C=1000, class_weight=balanced, gamma=0.0001, kernel=linear, random_state=13;, score=0.774 total time=   0.1s\n",
            "[CV 2/5] END C=1000, class_weight=balanced, gamma=0.0001, kernel=linear, random_state=13;, score=0.807 total time=   0.1s\n",
            "[CV 3/5] END C=1000, class_weight=balanced, gamma=0.0001, kernel=linear, random_state=13;, score=0.778 total time=   0.1s\n",
            "[CV 4/5] END C=1000, class_weight=balanced, gamma=0.0001, kernel=linear, random_state=13;, score=0.764 total time=   0.1s\n",
            "[CV 5/5] END C=1000, class_weight=balanced, gamma=0.0001, kernel=linear, random_state=13;, score=0.722 total time=   0.1s\n",
            "[CV 1/5] END C=1000, class_weight=balanced, gamma=0.0001, kernel=poly, random_state=13;, score=0.151 total time=   0.2s\n",
            "[CV 2/5] END C=1000, class_weight=balanced, gamma=0.0001, kernel=poly, random_state=13;, score=0.052 total time=   0.2s\n",
            "[CV 3/5] END C=1000, class_weight=balanced, gamma=0.0001, kernel=poly, random_state=13;, score=0.052 total time=   0.2s\n",
            "[CV 4/5] END C=1000, class_weight=balanced, gamma=0.0001, kernel=poly, random_state=13;, score=0.033 total time=   0.2s\n",
            "[CV 5/5] END C=1000, class_weight=balanced, gamma=0.0001, kernel=poly, random_state=13;, score=0.033 total time=   0.3s\n",
            "[CV 1/5] END C=1000, class_weight=balanced, gamma=0.0001, kernel=rbf, random_state=13;, score=0.783 total time=   0.2s\n",
            "[CV 2/5] END C=1000, class_weight=balanced, gamma=0.0001, kernel=rbf, random_state=13;, score=0.830 total time=   0.2s\n",
            "[CV 3/5] END C=1000, class_weight=balanced, gamma=0.0001, kernel=rbf, random_state=13;, score=0.778 total time=   0.2s\n",
            "[CV 4/5] END C=1000, class_weight=balanced, gamma=0.0001, kernel=rbf, random_state=13;, score=0.769 total time=   0.2s\n",
            "[CV 5/5] END C=1000, class_weight=balanced, gamma=0.0001, kernel=rbf, random_state=13;, score=0.731 total time=   0.2s\n",
            "[CV 1/5] END C=1000, class_weight=balanced, gamma=0.0001, kernel=sigmoid, random_state=13;, score=0.783 total time=   0.2s\n",
            "[CV 2/5] END C=1000, class_weight=balanced, gamma=0.0001, kernel=sigmoid, random_state=13;, score=0.807 total time=   0.2s\n",
            "[CV 3/5] END C=1000, class_weight=balanced, gamma=0.0001, kernel=sigmoid, random_state=13;, score=0.778 total time=   0.2s\n",
            "[CV 4/5] END C=1000, class_weight=balanced, gamma=0.0001, kernel=sigmoid, random_state=13;, score=0.774 total time=   0.1s\n",
            "[CV 5/5] END C=1000, class_weight=balanced, gamma=0.0001, kernel=sigmoid, random_state=13;, score=0.759 total time=   0.1s\n"
          ]
        },
        {
          "data": {
            "text/html": [
              "<style>#sk-container-id-4 {color: black;background-color: white;}#sk-container-id-4 pre{padding: 0;}#sk-container-id-4 div.sk-toggleable {background-color: white;}#sk-container-id-4 label.sk-toggleable__label {cursor: pointer;display: block;width: 100%;margin-bottom: 0;padding: 0.3em;box-sizing: border-box;text-align: center;}#sk-container-id-4 label.sk-toggleable__label-arrow:before {content: \"▸\";float: left;margin-right: 0.25em;color: #696969;}#sk-container-id-4 label.sk-toggleable__label-arrow:hover:before {color: black;}#sk-container-id-4 div.sk-estimator:hover label.sk-toggleable__label-arrow:before {color: black;}#sk-container-id-4 div.sk-toggleable__content {max-height: 0;max-width: 0;overflow: hidden;text-align: left;background-color: #f0f8ff;}#sk-container-id-4 div.sk-toggleable__content pre {margin: 0.2em;color: black;border-radius: 0.25em;background-color: #f0f8ff;}#sk-container-id-4 input.sk-toggleable__control:checked~div.sk-toggleable__content {max-height: 200px;max-width: 100%;overflow: auto;}#sk-container-id-4 input.sk-toggleable__control:checked~label.sk-toggleable__label-arrow:before {content: \"▾\";}#sk-container-id-4 div.sk-estimator input.sk-toggleable__control:checked~label.sk-toggleable__label {background-color: #d4ebff;}#sk-container-id-4 div.sk-label input.sk-toggleable__control:checked~label.sk-toggleable__label {background-color: #d4ebff;}#sk-container-id-4 input.sk-hidden--visually {border: 0;clip: rect(1px 1px 1px 1px);clip: rect(1px, 1px, 1px, 1px);height: 1px;margin: -1px;overflow: hidden;padding: 0;position: absolute;width: 1px;}#sk-container-id-4 div.sk-estimator {font-family: monospace;background-color: #f0f8ff;border: 1px dotted black;border-radius: 0.25em;box-sizing: border-box;margin-bottom: 0.5em;}#sk-container-id-4 div.sk-estimator:hover {background-color: #d4ebff;}#sk-container-id-4 div.sk-parallel-item::after {content: \"\";width: 100%;border-bottom: 1px solid gray;flex-grow: 1;}#sk-container-id-4 div.sk-label:hover label.sk-toggleable__label {background-color: #d4ebff;}#sk-container-id-4 div.sk-serial::before {content: \"\";position: absolute;border-left: 1px solid gray;box-sizing: border-box;top: 0;bottom: 0;left: 50%;z-index: 0;}#sk-container-id-4 div.sk-serial {display: flex;flex-direction: column;align-items: center;background-color: white;padding-right: 0.2em;padding-left: 0.2em;position: relative;}#sk-container-id-4 div.sk-item {position: relative;z-index: 1;}#sk-container-id-4 div.sk-parallel {display: flex;align-items: stretch;justify-content: center;background-color: white;position: relative;}#sk-container-id-4 div.sk-item::before, #sk-container-id-4 div.sk-parallel-item::before {content: \"\";position: absolute;border-left: 1px solid gray;box-sizing: border-box;top: 0;bottom: 0;left: 50%;z-index: -1;}#sk-container-id-4 div.sk-parallel-item {display: flex;flex-direction: column;z-index: 1;position: relative;background-color: white;}#sk-container-id-4 div.sk-parallel-item:first-child::after {align-self: flex-end;width: 50%;}#sk-container-id-4 div.sk-parallel-item:last-child::after {align-self: flex-start;width: 50%;}#sk-container-id-4 div.sk-parallel-item:only-child::after {width: 0;}#sk-container-id-4 div.sk-dashed-wrapped {border: 1px dashed gray;margin: 0 0.4em 0.5em 0.4em;box-sizing: border-box;padding-bottom: 0.4em;background-color: white;}#sk-container-id-4 div.sk-label label {font-family: monospace;font-weight: bold;display: inline-block;line-height: 1.2em;}#sk-container-id-4 div.sk-label-container {text-align: center;}#sk-container-id-4 div.sk-container {/* jupyter's `normalize.less` sets `[hidden] { display: none; }` but bootstrap.min.css set `[hidden] { display: none !important; }` so we also need the `!important` here to be able to override the default hidden behavior on the sphinx rendered scikit-learn.org. See: https://github.com/scikit-learn/scikit-learn/issues/21755 */display: inline-block !important;position: relative;}#sk-container-id-4 div.sk-text-repr-fallback {display: none;}</style><div id=\"sk-container-id-4\" class=\"sk-top-container\"><div class=\"sk-text-repr-fallback\"><pre>GridSearchCV(estimator=SVC(),\n",
              "             param_grid=[{&#x27;C&#x27;: [1, 10, 100, 1000],\n",
              "                          &#x27;class_weight&#x27;: [None, &#x27;balanced&#x27;],\n",
              "                          &#x27;gamma&#x27;: [0.001, 0.0001],\n",
              "                          &#x27;kernel&#x27;: [&#x27;linear&#x27;, &#x27;poly&#x27;, &#x27;rbf&#x27;, &#x27;sigmoid&#x27;],\n",
              "                          &#x27;random_state&#x27;: [13]}],\n",
              "             verbose=3)</pre><b>In a Jupyter environment, please rerun this cell to show the HTML representation or trust the notebook. <br />On GitHub, the HTML representation is unable to render, please try loading this page with nbviewer.org.</b></div><div class=\"sk-container\" hidden><div class=\"sk-item sk-dashed-wrapped\"><div class=\"sk-label-container\"><div class=\"sk-label sk-toggleable\"><input class=\"sk-toggleable__control sk-hidden--visually\" id=\"sk-estimator-id-6\" type=\"checkbox\" ><label for=\"sk-estimator-id-6\" class=\"sk-toggleable__label sk-toggleable__label-arrow\">GridSearchCV</label><div class=\"sk-toggleable__content\"><pre>GridSearchCV(estimator=SVC(),\n",
              "             param_grid=[{&#x27;C&#x27;: [1, 10, 100, 1000],\n",
              "                          &#x27;class_weight&#x27;: [None, &#x27;balanced&#x27;],\n",
              "                          &#x27;gamma&#x27;: [0.001, 0.0001],\n",
              "                          &#x27;kernel&#x27;: [&#x27;linear&#x27;, &#x27;poly&#x27;, &#x27;rbf&#x27;, &#x27;sigmoid&#x27;],\n",
              "                          &#x27;random_state&#x27;: [13]}],\n",
              "             verbose=3)</pre></div></div></div><div class=\"sk-parallel\"><div class=\"sk-parallel-item\"><div class=\"sk-item\"><div class=\"sk-label-container\"><div class=\"sk-label sk-toggleable\"><input class=\"sk-toggleable__control sk-hidden--visually\" id=\"sk-estimator-id-7\" type=\"checkbox\" ><label for=\"sk-estimator-id-7\" class=\"sk-toggleable__label sk-toggleable__label-arrow\">estimator: SVC</label><div class=\"sk-toggleable__content\"><pre>SVC()</pre></div></div></div><div class=\"sk-serial\"><div class=\"sk-item\"><div class=\"sk-estimator sk-toggleable\"><input class=\"sk-toggleable__control sk-hidden--visually\" id=\"sk-estimator-id-8\" type=\"checkbox\" ><label for=\"sk-estimator-id-8\" class=\"sk-toggleable__label sk-toggleable__label-arrow\">SVC</label><div class=\"sk-toggleable__content\"><pre>SVC()</pre></div></div></div></div></div></div></div></div></div></div>"
            ],
            "text/plain": [
              "GridSearchCV(estimator=SVC(),\n",
              "             param_grid=[{'C': [1, 10, 100, 1000],\n",
              "                          'class_weight': [None, 'balanced'],\n",
              "                          'gamma': [0.001, 0.0001],\n",
              "                          'kernel': ['linear', 'poly', 'rbf', 'sigmoid'],\n",
              "                          'random_state': [13]}],\n",
              "             verbose=3)"
            ]
          },
          "execution_count": 96,
          "metadata": {},
          "output_type": "execute_result"
        }
      ],
      "source": [
        "cv = GridSearchCV(SVC(), tuned_parameters, refit=True, verbose=3)\n",
        "cv.fit(X_train_pca, y_train)"
      ]
    },
    {
      "attachments": {},
      "cell_type": "markdown",
      "metadata": {
        "id": "bC8S2mixeBsg"
      },
      "source": [
        "Определите гиперпараметры лучшей полученной модели."
      ]
    },
    {
      "cell_type": "code",
      "execution_count": 97,
      "metadata": {
        "id": "-0rlhTDgQboM"
      },
      "outputs": [
        {
          "data": {
            "text/plain": [
              "{'C': 100,\n",
              " 'class_weight': None,\n",
              " 'gamma': 0.001,\n",
              " 'kernel': 'sigmoid',\n",
              " 'random_state': 13}"
            ]
          },
          "execution_count": 97,
          "metadata": {},
          "output_type": "execute_result"
        }
      ],
      "source": [
        "cv.best_params_"
      ]
    },
    {
      "attachments": {},
      "cell_type": "markdown",
      "metadata": {
        "id": "tgC9qKkBeP7p"
      },
      "source": [
        "Выполните предсказание для тестовых данных при помощи лучшей полученной модели. Вычислите <code>f1_score(average='weighted')</code>"
      ]
    },
    {
      "cell_type": "code",
      "execution_count": 98,
      "metadata": {
        "id": "JFpgqCfRQiir"
      },
      "outputs": [
        {
          "data": {
            "text/plain": [
              "0.8147394395247998"
            ]
          },
          "execution_count": 98,
          "metadata": {},
          "output_type": "execute_result"
        }
      ],
      "source": [
        "f1_score(y_test, cv.predict(X_test_pca), average='weighted')"
      ]
    },
    {
      "attachments": {},
      "cell_type": "markdown",
      "metadata": {
        "id": "Pn3w9DtNe6ii"
      },
      "source": [
        "Видно, что качество модели изменилось незначительно, при этом время обучения существенно сократилось."
      ]
    }
  ],
  "metadata": {
    "colab": {
      "provenance": []
    },
    "kernelspec": {
      "display_name": "Python 3",
      "name": "python3"
    },
    "language_info": {
      "codemirror_mode": {
        "name": "ipython",
        "version": 3
      },
      "file_extension": ".py",
      "mimetype": "text/x-python",
      "name": "python",
      "nbconvert_exporter": "python",
      "pygments_lexer": "ipython3",
      "version": "3.10.6"
    }
  },
  "nbformat": 4,
  "nbformat_minor": 0
}
