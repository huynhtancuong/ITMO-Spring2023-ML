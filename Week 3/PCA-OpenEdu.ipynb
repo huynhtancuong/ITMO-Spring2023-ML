{
 "cells": [
  {
   "cell_type": "code",
   "execution_count": 4,
   "metadata": {},
   "outputs": [],
   "source": [
    "import numpy as np \n",
    "import pandas as pd\n",
    "\n",
    "from sklearn.decomposition import PCA\n",
    "from sklearn import preprocessing \n",
    "import matplotlib.pyplot as plt\n"
   ]
  },
  {
   "cell_type": "code",
   "execution_count": 2,
   "metadata": {},
   "outputs": [
    {
     "data": {
      "text/html": [
       "<div>\n",
       "<style scoped>\n",
       "    .dataframe tbody tr th:only-of-type {\n",
       "        vertical-align: middle;\n",
       "    }\n",
       "\n",
       "    .dataframe tbody tr th {\n",
       "        vertical-align: top;\n",
       "    }\n",
       "\n",
       "    .dataframe thead th {\n",
       "        text-align: right;\n",
       "    }\n",
       "</style>\n",
       "<table border=\"1\" class=\"dataframe\">\n",
       "  <thead>\n",
       "    <tr style=\"text-align: right;\">\n",
       "      <th></th>\n",
       "      <th>0</th>\n",
       "      <th>1</th>\n",
       "      <th>2</th>\n",
       "      <th>3</th>\n",
       "      <th>4</th>\n",
       "      <th>5</th>\n",
       "      <th>6</th>\n",
       "      <th>7</th>\n",
       "      <th>8</th>\n",
       "      <th>9</th>\n",
       "    </tr>\n",
       "  </thead>\n",
       "  <tbody>\n",
       "    <tr>\n",
       "      <th>0</th>\n",
       "      <td>13.255663</td>\n",
       "      <td>-3.970881</td>\n",
       "      <td>2.796957</td>\n",
       "      <td>-6.344109</td>\n",
       "      <td>24.017276</td>\n",
       "      <td>-18.697087</td>\n",
       "      <td>21.128203</td>\n",
       "      <td>-18.501314</td>\n",
       "      <td>-0.839574</td>\n",
       "      <td>-16.191357</td>\n",
       "    </tr>\n",
       "    <tr>\n",
       "      <th>1</th>\n",
       "      <td>-26.357436</td>\n",
       "      <td>7.110444</td>\n",
       "      <td>16.870685</td>\n",
       "      <td>4.426741</td>\n",
       "      <td>15.145726</td>\n",
       "      <td>17.248351</td>\n",
       "      <td>-12.547473</td>\n",
       "      <td>17.486641</td>\n",
       "      <td>-9.131461</td>\n",
       "      <td>-20.452525</td>\n",
       "    </tr>\n",
       "    <tr>\n",
       "      <th>2</th>\n",
       "      <td>-3.576196</td>\n",
       "      <td>-18.649942</td>\n",
       "      <td>24.643430</td>\n",
       "      <td>-14.978293</td>\n",
       "      <td>-9.286028</td>\n",
       "      <td>8.377791</td>\n",
       "      <td>4.414909</td>\n",
       "      <td>-12.870903</td>\n",
       "      <td>15.586781</td>\n",
       "      <td>-0.174785</td>\n",
       "    </tr>\n",
       "    <tr>\n",
       "      <th>3</th>\n",
       "      <td>-23.203200</td>\n",
       "      <td>8.301919</td>\n",
       "      <td>16.095409</td>\n",
       "      <td>7.643220</td>\n",
       "      <td>16.914143</td>\n",
       "      <td>16.649280</td>\n",
       "      <td>-8.603661</td>\n",
       "      <td>16.012082</td>\n",
       "      <td>-11.373881</td>\n",
       "      <td>-21.142902</td>\n",
       "    </tr>\n",
       "    <tr>\n",
       "      <th>4</th>\n",
       "      <td>9.998677</td>\n",
       "      <td>-0.640020</td>\n",
       "      <td>2.602077</td>\n",
       "      <td>-4.334787</td>\n",
       "      <td>22.336607</td>\n",
       "      <td>-23.446092</td>\n",
       "      <td>20.818255</td>\n",
       "      <td>-17.437508</td>\n",
       "      <td>-0.637234</td>\n",
       "      <td>-16.413384</td>\n",
       "    </tr>\n",
       "  </tbody>\n",
       "</table>\n",
       "</div>"
      ],
      "text/plain": [
       "           0          1          2          3          4          5   \n",
       "0  13.255663  -3.970881   2.796957  -6.344109  24.017276 -18.697087  \\\n",
       "1 -26.357436   7.110444  16.870685   4.426741  15.145726  17.248351   \n",
       "2  -3.576196 -18.649942  24.643430 -14.978293  -9.286028   8.377791   \n",
       "3 -23.203200   8.301919  16.095409   7.643220  16.914143  16.649280   \n",
       "4   9.998677  -0.640020   2.602077  -4.334787  22.336607 -23.446092   \n",
       "\n",
       "           6          7          8          9  \n",
       "0  21.128203 -18.501314  -0.839574 -16.191357  \n",
       "1 -12.547473  17.486641  -9.131461 -20.452525  \n",
       "2   4.414909 -12.870903  15.586781  -0.174785  \n",
       "3  -8.603661  16.012082 -11.373881 -21.142902  \n",
       "4  20.818255 -17.437508  -0.637234 -16.413384  "
      ]
     },
     "execution_count": 2,
     "metadata": {},
     "output_type": "execute_result"
    }
   ],
   "source": [
    "data = pd.read_csv('34_25.csv', header=None, sep=',')\n",
    "data.head()"
   ]
  },
  {
   "cell_type": "code",
   "execution_count": 3,
   "metadata": {},
   "outputs": [
    {
     "data": {
      "text/plain": [
       "(60, 10)"
      ]
     },
     "execution_count": 3,
     "metadata": {},
     "output_type": "execute_result"
    }
   ],
   "source": [
    "data.shape"
   ]
  },
  {
   "cell_type": "code",
   "execution_count": 30,
   "metadata": {},
   "outputs": [],
   "source": [
    "pca = PCA(n_components=5)\n",
    "pca.fit(data)\n",
    "pca_data = pca.transform(data)"
   ]
  },
  {
   "cell_type": "code",
   "execution_count": 31,
   "metadata": {},
   "outputs": [
    {
     "data": {
      "text/plain": [
       "array([[-3.47838554e+01, -2.25954999e+01, -2.46022427e+01,\n",
       "         4.99208984e+00, -2.19267224e+00],\n",
       "       [ 1.26546290e+01,  3.03412079e+01, -7.29857239e-01,\n",
       "         2.06803653e+01, -1.46623019e+00],\n",
       "       [-1.08645744e+01, -2.06245752e+01,  3.12544302e+01,\n",
       "         3.29223031e+00,  1.81650296e+00],\n",
       "       [ 1.06242521e+01,  2.96537507e+01, -5.38752278e+00,\n",
       "         1.88322003e+01, -3.46338566e+00],\n",
       "       [-3.39262402e+01, -2.06744268e+01, -2.68001933e+01,\n",
       "         2.66545125e+00,  1.10937907e+00],\n",
       "       [-1.70677103e+01,  2.86497523e+01,  3.77765539e+00,\n",
       "        -1.94915572e+01, -8.68121751e-01],\n",
       "       [ 5.13750745e+01, -1.67052279e+01, -1.06263639e+01,\n",
       "        -8.53614690e+00,  4.77825464e-01],\n",
       "       [-8.10479142e+00, -2.23801437e+01,  3.56340792e+01,\n",
       "         2.04902354e+00, -2.42609825e+00],\n",
       "       [ 4.58340740e+01, -1.40138741e+01, -9.93392701e+00,\n",
       "        -5.79330979e+00, -2.01350649e+00],\n",
       "       [ 8.85269441e+00,  2.92661998e+01, -1.10035419e+00,\n",
       "         1.90085497e+01, -1.58268214e+00],\n",
       "       [ 5.01357960e+01, -1.43487614e+01, -1.16189309e+01,\n",
       "        -7.80778445e+00, -1.26586957e+00],\n",
       "       [ 1.15259118e+01,  2.88455728e+01,  6.32180846e-01,\n",
       "         2.17282834e+01,  1.92635857e+00],\n",
       "       [-1.43297305e+01,  2.89288218e+01,  2.45817609e+00,\n",
       "        -1.73055327e+01,  2.49900148e-01],\n",
       "       [-7.32200673e+00, -2.36725379e+01,  3.50852153e+01,\n",
       "         6.78462094e+00, -9.79463904e-01],\n",
       "       [-7.84504591e+00, -2.25284194e+01,  3.22517307e+01,\n",
       "         2.89181740e+00, -2.50409881e-01],\n",
       "       [-1.77714485e+01,  3.08989375e+01,  4.37646746e+00,\n",
       "        -1.90295227e+01,  1.66901695e-01],\n",
       "       [ 4.82332196e+01, -1.31398220e+01, -1.17513919e+01,\n",
       "        -7.08722736e+00, -9.82584745e-01],\n",
       "       [ 1.07006436e+01,  2.90814497e+01, -2.52605504e+00,\n",
       "         1.95195786e+01,  3.25072813e+00],\n",
       "       [-7.81842006e+00, -2.33852783e+01,  3.37086399e+01,\n",
       "         5.07846673e+00,  4.88353984e-01],\n",
       "       [-7.70700860e+00, -2.34813036e+01,  3.52115090e+01,\n",
       "         5.33108886e+00, -3.20601349e+00],\n",
       "       [-1.62075136e+01,  2.71660019e+01,  6.71696541e-01,\n",
       "        -1.85903588e+01,  1.78261307e+00],\n",
       "       [ 5.02471334e+01, -1.60483779e+01, -8.91311386e+00,\n",
       "        -8.78387171e+00, -1.81611709e+00],\n",
       "       [-1.53884308e+01,  2.72565698e+01,  2.05515622e+00,\n",
       "        -1.85408395e+01, -1.45213938e+00],\n",
       "       [ 1.07465006e+01,  3.05314871e+01, -3.89421723e+00,\n",
       "         1.99449853e+01, -1.08018403e+00],\n",
       "       [-2.04267812e+01,  2.88703542e+01,  5.11903246e+00,\n",
       "        -1.82953138e+01, -9.14462204e-01],\n",
       "       [-3.55974142e+01, -2.30031017e+01, -2.39943075e+01,\n",
       "         5.31015119e+00,  4.08864919e-01],\n",
       "       [-3.06162480e+01, -2.21276164e+01, -2.67281330e+01,\n",
       "         5.60220335e+00,  5.30919436e-01],\n",
       "       [ 1.08417063e+01,  3.17451015e+01,  1.10823729e+00,\n",
       "         1.99964531e+01, -2.09188321e+00],\n",
       "       [ 4.91919703e+01, -1.52601062e+01, -8.43661323e+00,\n",
       "        -7.06221165e+00,  2.01714019e-01],\n",
       "       [-3.16023064e+01, -2.01100172e+01, -2.55068244e+01,\n",
       "         4.80943649e+00, -1.26688903e-01],\n",
       "       [-3.11819500e+01, -2.23936765e+01, -2.52920888e+01,\n",
       "         4.79445395e+00,  2.21471639e-01],\n",
       "       [ 4.80211096e+01, -1.51812114e+01, -1.02591936e+01,\n",
       "        -7.48657849e+00,  1.42264194e+00],\n",
       "       [-3.46410926e+01, -2.32546313e+01, -2.58139027e+01,\n",
       "         2.37750448e+00, -8.57536072e-01],\n",
       "       [ 4.84184276e+01, -1.53975201e+01, -9.34473981e+00,\n",
       "        -8.31359395e+00, -2.30925309e-02],\n",
       "       [-1.68532362e+01,  3.11444053e+01,  2.10906872e+00,\n",
       "        -2.09410320e+01, -7.19859835e-01],\n",
       "       [-1.91737006e+01,  2.95924194e+01,  3.65771131e+00,\n",
       "        -1.69664753e+01, -6.82202226e-01],\n",
       "       [ 4.68145055e+01, -1.43856384e+01, -8.23427790e+00,\n",
       "        -7.73426546e+00, -6.07805221e-01],\n",
       "       [-3.12350449e+01, -2.33379526e+01, -2.28792811e+01,\n",
       "         4.44756643e+00,  2.71095517e+00],\n",
       "       [ 1.14556333e+01,  2.94193082e+01,  3.18619802e+00,\n",
       "         1.72639934e+01, -1.52362667e+00],\n",
       "       [-8.12232258e+00, -2.19507990e+01,  3.46716898e+01,\n",
       "         2.13959559e+00,  2.44916417e+00],\n",
       "       [-3.39266669e+01, -2.37970396e+01, -2.40248510e+01,\n",
       "         2.84160211e-02,  1.28278082e+00],\n",
       "       [-8.93564320e+00, -2.21585740e+01,  3.33301030e+01,\n",
       "         3.53477796e+00, -9.12707068e-01],\n",
       "       [-1.85727169e+01,  3.17776375e+01,  2.94394530e+00,\n",
       "        -1.85683204e+01,  2.80511001e+00],\n",
       "       [-8.20251074e+00, -2.27333342e+01,  3.40702560e+01,\n",
       "         1.21383197e+00, -1.79362213e+00],\n",
       "       [-1.16371400e+01, -2.13841658e+01,  3.34589003e+01,\n",
       "         7.79165620e-02,  2.90247945e+00],\n",
       "       [-3.49542613e+01, -1.97899986e+01, -2.63486642e+01,\n",
       "         5.61559251e+00, -1.32264317e+00],\n",
       "       [-1.90229781e+01,  2.82174303e+01,  2.09555833e+00,\n",
       "        -2.00360618e+01,  9.36351538e-01],\n",
       "       [ 7.70988720e+00,  2.81647438e+01, -7.08809935e-01,\n",
       "         1.89872394e+01,  8.42908120e-01],\n",
       "       [-3.24198654e+01, -2.02158197e+01, -2.77148033e+01,\n",
       "         3.66348558e+00, -7.86827388e-01],\n",
       "       [-1.79447922e+01,  3.04461263e+01,  4.23900777e+00,\n",
       "        -2.00279934e+01, -2.38858914e+00],\n",
       "       [ 4.79303607e+01, -1.77222836e+01, -1.10248716e+01,\n",
       "        -9.63026724e+00,  2.60344252e+00],\n",
       "       [ 4.71236321e+01, -1.41338709e+01, -1.14689728e+01,\n",
       "        -7.49551452e+00,  2.44295480e-01],\n",
       "       [ 1.08323364e+01,  2.80023556e+01, -2.16392171e-01,\n",
       "         2.25250854e+01,  3.16814780e+00],\n",
       "       [ 1.25873594e+01,  3.23534146e+01, -1.73111690e+00,\n",
       "         1.80170500e+01, -1.76827859e+00],\n",
       "       [-8.34481847e+00, -2.20357370e+01,  3.63954200e+01,\n",
       "         6.23467290e-01,  1.53590207e+00],\n",
       "       [-1.58785698e+01,  2.88115059e+01,  1.10905813e+00,\n",
       "        -1.93045542e+01,  1.11210415e+00],\n",
       "       [ 1.08259098e+01,  3.06019820e+01, -1.99791228e+00,\n",
       "         2.12445535e+01,  4.17656240e+00],\n",
       "       [ 4.81068538e+01, -1.37313031e+01, -1.03565220e+01,\n",
       "        -9.18078267e+00,  1.64421257e+00],\n",
       "       [-3.38676886e+01, -2.01504933e+01, -2.62166646e+01,\n",
       "         4.53899251e+00, -1.30230308e+00],\n",
       "       [-8.49509625e+00, -2.19133967e+01,  3.15719894e+01,\n",
       "         2.39859758e+00,  3.99014946e-01]])"
      ]
     },
     "execution_count": 31,
     "metadata": {},
     "output_type": "execute_result"
    }
   ],
   "source": [
    "pca_data"
   ]
  },
  {
   "cell_type": "code",
   "execution_count": 32,
   "metadata": {},
   "outputs": [],
   "source": [
    "per_var = np.round(pca.explained_variance_ratio_*100, decimals=1)\n",
    "labels = ['PC'+str(x) for x in range(1, len(per_var)+1)]"
   ]
  },
  {
   "cell_type": "code",
   "execution_count": 33,
   "metadata": {},
   "outputs": [
    {
     "data": {
      "text/plain": [
       "99.60000000000001"
      ]
     },
     "execution_count": 33,
     "metadata": {},
     "output_type": "execute_result"
    }
   ],
   "source": [
    "per_var.sum()"
   ]
  },
  {
   "cell_type": "code",
   "execution_count": 34,
   "metadata": {},
   "outputs": [
    {
     "data": {
      "image/png": "[encoded data removed]",
      "text/plain": [
       "<Figure size 432x288 with 1 Axes>"
      ]
     },
     "metadata": {
      "needs_background": "light"
     },
     "output_type": "display_data"
    }
   ],
   "source": [
    "plt.bar(x=range(1, len(per_var)+1), height=per_var, tick_label=labels)\n",
    "plt.ylabel('Percentage of Explained Variance')\n",
    "plt.xlabel('Principal Component')\n",
    "plt.title('Scree Plot')\n",
    "plt.show()"
   ]
  },
  {
   "cell_type": "code",
   "execution_count": 35,
   "metadata": {},
   "outputs": [
    {
     "data": {
      "text/plain": [
       "<matplotlib.collections.PathCollection at 0x7f030bd4b0a0>"
      ]
     },
     "execution_count": 35,
     "metadata": {},
     "output_type": "execute_result"
    },
    {
     "data": {
      "image/png": "[encoded data removed]",
      "text/plain": [
       "<Figure size 432x288 with 1 Axes>"
      ]
     },
     "metadata": {
      "needs_background": "light"
     },
     "output_type": "display_data"
    }
   ],
   "source": [
    "plt.scatter(pca_data[:, 0], pca_data[:, 1])"
   ]
  },
  {
   "cell_type": "markdown",
   "metadata": {},
   "source": []
  },
  {
   "cell_type": "code",
   "execution_count": 42,
   "metadata": {},
   "outputs": [],
   "source": [
    "X_loading = pd.read_csv('X_loadings_648.csv',header=None, sep=';').to_numpy().astype(np.float16)\n",
    "X_reduced = pd.read_csv('X_reduced_648.csv', header=None, sep=';').to_numpy().astype(np.float16)"
   ]
  },
  {
   "cell_type": "code",
   "execution_count": 43,
   "metadata": {},
   "outputs": [
    {
     "data": {
      "text/plain": [
       "(100, 100)"
      ]
     },
     "execution_count": 43,
     "metadata": {},
     "output_type": "execute_result"
    }
   ],
   "source": [
    "img = (X_reduced @ X_loading.T)\n",
    "img.shape"
   ]
  },
  {
   "cell_type": "code",
   "execution_count": 44,
   "metadata": {},
   "outputs": [
    {
     "data": {
      "image/png": "[encoded data removed]",
      "text/plain": [
       "<Figure size 432x288 with 1 Axes>"
      ]
     },
     "metadata": {
      "needs_background": "light"
     },
     "output_type": "display_data"
    }
   ],
   "source": [
    "import matplotlib.pyplot as plt\n",
    "\n",
    "plt.imshow(img)\n",
    "plt.show()"
   ]
  }
 ],
 "metadata": {
  "kernelspec": {
   "display_name": "Python 3",
   "language": "python",
   "name": "python3"
  },
  "language_info": {
   "codemirror_mode": {
    "name": "ipython",
    "version": 3
   },
   "file_extension": ".py",
   "mimetype": "text/x-python",
   "name": "python",
   "nbconvert_exporter": "python",
   "pygments_lexer": "ipython3",
   "version": "3.10.6"
  },
  "orig_nbformat": 4,
  "vscode": {
   "interpreter": {
    "hash": "916dbcbb3f70747c44a77c7bcd40155683ae19c65e1c03b4aa3499c5328201f1"
   }
  }
 },
 "nbformat": 4,
 "nbformat_minor": 2
}
